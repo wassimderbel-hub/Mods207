{
 "cells": [
  {
   "cell_type": "code",
   "execution_count": 4,
   "metadata": {
    "colab": {
     "base_uri": "https://localhost:8080/"
    },
    "id": "DhfeCFtc5lJ0",
    "outputId": "13c429f7-aa33-407b-8049-b44973b5e6f5"
   },
   "outputs": [
    {
     "name": "stderr",
     "output_type": "stream",
     "text": [
      "Scraping Reviews:   0%|          | 0/667 [01:54<?, ?it/s]\n",
      "Scraping Reviews:   0%|          | 1/667 [00:05<1:01:39,  5.56s/it]"
     ]
    },
    {
     "name": "stdout",
     "output_type": "stream",
     "text": [
      "For film with ID tt0113254 0 reviews were scraped\n"
     ]
    },
    {
     "name": "stderr",
     "output_type": "stream",
     "text": [
      "Scraping Reviews:   0%|          | 2/667 [00:08<41:45,  3.77s/it]  "
     ]
    },
    {
     "name": "stdout",
     "output_type": "stream",
     "text": [
      "For film with ID tt0240885 0 reviews were scraped\n"
     ]
    },
    {
     "name": "stderr",
     "output_type": "stream",
     "text": [
      "Scraping Reviews:   0%|          | 3/667 [01:08<5:29:49, 29.80s/it]"
     ]
    },
    {
     "name": "stdout",
     "output_type": "stream",
     "text": [
      "For film with ID tt0387131 590 reviews were scraped\n"
     ]
    },
    {
     "name": "stderr",
     "output_type": "stream",
     "text": [
      "Scraping Reviews:   1%|          | 4/667 [03:09<12:06:01, 65.70s/it]"
     ]
    },
    {
     "name": "stdout",
     "output_type": "stream",
     "text": [
      "For film with ID tt0399146 1169 reviews were scraped\n"
     ]
    },
    {
     "name": "stderr",
     "output_type": "stream",
     "text": [
      "Scraping Reviews:   1%|          | 5/667 [04:26<12:49:51, 69.78s/it]"
     ]
    },
    {
     "name": "stdout",
     "output_type": "stream",
     "text": [
      "For film with ID tt0416320 787 reviews were scraped\n"
     ]
    },
    {
     "name": "stderr",
     "output_type": "stream",
     "text": [
      "Scraping Reviews:   1%|          | 6/667 [04:54<10:10:01, 55.37s/it]"
     ]
    },
    {
     "name": "stdout",
     "output_type": "stream",
     "text": [
      "For film with ID tt0367089 269 reviews were scraped\n"
     ]
    },
    {
     "name": "stderr",
     "output_type": "stream",
     "text": [
      "Scraping Reviews:   1%|          | 7/667 [05:50<10:13:54, 55.81s/it]"
     ]
    },
    {
     "name": "stdout",
     "output_type": "stream",
     "text": [
      "For film with ID tt0365737 611 reviews were scraped\n"
     ]
    },
    {
     "name": "stderr",
     "output_type": "stream",
     "text": [
      "Scraping Reviews:   1%|          | 8/667 [06:45<10:09:47, 55.52s/it]"
     ]
    },
    {
     "name": "stdout",
     "output_type": "stream",
     "text": [
      "For film with ID tt0450259 743 reviews were scraped\n"
     ]
    },
    {
     "name": "stderr",
     "output_type": "stream",
     "text": [
      "Scraping Reviews:   1%|▏         | 9/667 [07:01<7:53:10, 43.15s/it] "
     ]
    },
    {
     "name": "stdout",
     "output_type": "stream",
     "text": [
      "For film with ID tt0468489 213 reviews were scraped\n"
     ]
    },
    {
     "name": "stderr",
     "output_type": "stream",
     "text": [
      "Scraping Reviews:   1%|▏         | 10/667 [07:09<5:54:16, 32.35s/it]"
     ]
    },
    {
     "name": "stdout",
     "output_type": "stream",
     "text": [
      "For film with ID tt0489327 113 reviews were scraped\n"
     ]
    },
    {
     "name": "stderr",
     "output_type": "stream",
     "text": [
      "Scraping Reviews:   2%|▏         | 11/667 [08:10<7:28:52, 41.06s/it]"
     ]
    },
    {
     "name": "stdout",
     "output_type": "stream",
     "text": [
      "For film with ID tt0454921 865 reviews were scraped\n"
     ]
    },
    {
     "name": "stderr",
     "output_type": "stream",
     "text": [
      "Scraping Reviews:   2%|▏         | 12/667 [08:35<6:36:14, 36.30s/it]"
     ]
    },
    {
     "name": "stdout",
     "output_type": "stream",
     "text": [
      "For film with ID tt0455590 366 reviews were scraped\n"
     ]
    },
    {
     "name": "stderr",
     "output_type": "stream",
     "text": [
      "Scraping Reviews:   2%|▏         | 13/667 [08:55<5:38:48, 31.08s/it]"
     ]
    },
    {
     "name": "stdout",
     "output_type": "stream",
     "text": [
      "For film with ID tt0441909 242 reviews were scraped\n"
     ]
    },
    {
     "name": "stderr",
     "output_type": "stream",
     "text": [
      "Scraping Reviews:   2%|▏         | 14/667 [09:16<5:06:55, 28.20s/it]"
     ]
    },
    {
     "name": "stdout",
     "output_type": "stream",
     "text": [
      "For film with ID tt0465551 282 reviews were scraped\n"
     ]
    },
    {
     "name": "stderr",
     "output_type": "stream",
     "text": [
      "Scraping Reviews:   2%|▏         | 15/667 [09:50<5:26:22, 30.03s/it]"
     ]
    },
    {
     "name": "stdout",
     "output_type": "stream",
     "text": [
      "For film with ID tt0436697 456 reviews were scraped\n"
     ]
    },
    {
     "name": "stderr",
     "output_type": "stream",
     "text": [
      "Scraping Reviews:   2%|▏         | 16/667 [10:48<6:55:55, 38.33s/it]"
     ]
    },
    {
     "name": "stdout",
     "output_type": "stream",
     "text": [
      "For film with ID tt0458352 777 reviews were scraped\n"
     ]
    },
    {
     "name": "stderr",
     "output_type": "stream",
     "text": [
      "Scraping Reviews:   3%|▎         | 17/667 [11:11<6:06:53, 33.87s/it]"
     ]
    },
    {
     "name": "stdout",
     "output_type": "stream",
     "text": [
      "For film with ID tt0404203 309 reviews were scraped\n"
     ]
    },
    {
     "name": "stderr",
     "output_type": "stream",
     "text": [
      "Scraping Reviews:   3%|▎         | 18/667 [12:05<7:10:59, 39.84s/it]"
     ]
    },
    {
     "name": "stdout",
     "output_type": "stream",
     "text": [
      "For film with ID tt0317219 740 reviews were scraped\n"
     ]
    },
    {
     "name": "stderr",
     "output_type": "stream",
     "text": [
      "Scraping Reviews:   3%|▎         | 19/667 [12:48<7:18:39, 40.62s/it]"
     ]
    },
    {
     "name": "stdout",
     "output_type": "stream",
     "text": [
      "For film with ID tt0366548 586 reviews were scraped\n"
     ]
    },
    {
     "name": "stderr",
     "output_type": "stream",
     "text": [
      "Scraping Reviews:   3%|▎         | 20/667 [13:11<6:21:57, 35.42s/it]"
     ]
    },
    {
     "name": "stdout",
     "output_type": "stream",
     "text": [
      "For film with ID tt0385880 308 reviews were scraped\n"
     ]
    },
    {
     "name": "stderr",
     "output_type": "stream",
     "text": [
      "Scraping Reviews:   3%|▎         | 21/667 [14:23<8:20:10, 46.46s/it]"
     ]
    },
    {
     "name": "stdout",
     "output_type": "stream",
     "text": [
      "For film with ID tt0449467 934 reviews were scraped\n"
     ]
    },
    {
     "name": "stderr",
     "output_type": "stream",
     "text": [
      "Scraping Reviews:   3%|▎         | 22/667 [18:06<17:47:33, 99.31s/it]"
     ]
    },
    {
     "name": "stdout",
     "output_type": "stream",
     "text": [
      "For film with ID tt0407887 2443 reviews were scraped\n"
     ]
    },
    {
     "name": "stderr",
     "output_type": "stream",
     "text": [
      "Scraping Reviews:   3%|▎         | 23/667 [18:32<13:49:45, 77.31s/it]"
     ]
    },
    {
     "name": "stdout",
     "output_type": "stream",
     "text": [
      "For film with ID tt0498380 346 reviews were scraped\n"
     ]
    },
    {
     "name": "stderr",
     "output_type": "stream",
     "text": [
      "Scraping Reviews:   4%|▎         | 24/667 [19:34<13:01:35, 72.93s/it]"
     ]
    },
    {
     "name": "stdout",
     "output_type": "stream",
     "text": [
      "For film with ID tt0475276 840 reviews were scraped\n"
     ]
    },
    {
     "name": "stderr",
     "output_type": "stream",
     "text": [
      "Scraping Reviews:   4%|▎         | 25/667 [19:40<9:25:41, 52.87s/it] "
     ]
    },
    {
     "name": "stdout",
     "output_type": "stream",
     "text": [
      "For film with ID tt0814075 57 reviews were scraped\n"
     ]
    },
    {
     "name": "stderr",
     "output_type": "stream",
     "text": [
      "Scraping Reviews:   4%|▍         | 26/667 [20:19<8:39:48, 48.66s/it]"
     ]
    },
    {
     "name": "stdout",
     "output_type": "stream",
     "text": [
      "For film with ID tt0497116 507 reviews were scraped\n"
     ]
    },
    {
     "name": "stderr",
     "output_type": "stream",
     "text": [
      "Scraping Reviews:   4%|▍         | 27/667 [20:22<6:12:37, 34.93s/it]"
     ]
    },
    {
     "name": "stdout",
     "output_type": "stream",
     "text": [
      "For film with ID tt0492466 20 reviews were scraped\n"
     ]
    },
    {
     "name": "stderr",
     "output_type": "stream",
     "text": [
      "Scraping Reviews:   4%|▍         | 28/667 [20:42<5:23:42, 30.40s/it]"
     ]
    },
    {
     "name": "stdout",
     "output_type": "stream",
     "text": [
      "For film with ID tt0486358 260 reviews were scraped\n"
     ]
    },
    {
     "name": "stderr",
     "output_type": "stream",
     "text": [
      "Scraping Reviews:   4%|▍         | 29/667 [20:45<3:54:32, 22.06s/it]"
     ]
    },
    {
     "name": "stdout",
     "output_type": "stream",
     "text": [
      "For film with ID tt4425258 1 reviews were scraped\n"
     ]
    },
    {
     "name": "stderr",
     "output_type": "stream",
     "text": [
      "Scraping Reviews:   4%|▍         | 30/667 [20:55<3:17:49, 18.63s/it]"
     ]
    },
    {
     "name": "stdout",
     "output_type": "stream",
     "text": [
      "For film with ID tt0457655 118 reviews were scraped\n"
     ]
    },
    {
     "name": "stderr",
     "output_type": "stream",
     "text": [
      "Scraping Reviews:   5%|▍         | 31/667 [21:02<2:38:42, 14.97s/it]"
     ]
    },
    {
     "name": "stdout",
     "output_type": "stream",
     "text": [
      "For film with ID tt0444182 69 reviews were scraped\n"
     ]
    },
    {
     "name": "stderr",
     "output_type": "stream",
     "text": [
      "Scraping Reviews:   5%|▍         | 32/667 [21:41<3:54:22, 22.15s/it]"
     ]
    },
    {
     "name": "stdout",
     "output_type": "stream",
     "text": [
      "For film with ID tt0405094 548 reviews were scraped\n"
     ]
    },
    {
     "name": "stderr",
     "output_type": "stream",
     "text": [
      "Scraping Reviews:   5%|▍         | 33/667 [23:25<8:13:53, 46.74s/it]"
     ]
    },
    {
     "name": "stdout",
     "output_type": "stream",
     "text": [
      "For film with ID tt0457430 1313 reviews were scraped\n"
     ]
    },
    {
     "name": "stderr",
     "output_type": "stream",
     "text": [
      "Scraping Reviews:   5%|▌         | 34/667 [23:26<5:48:29, 33.03s/it]"
     ]
    },
    {
     "name": "stdout",
     "output_type": "stream",
     "text": [
      "For film with ID ttxxxxxxxx 0 reviews were scraped\n"
     ]
    },
    {
     "name": "stderr",
     "output_type": "stream",
     "text": [
      "Scraping Reviews:   5%|▌         | 35/667 [24:42<8:03:08, 45.87s/it]"
     ]
    },
    {
     "name": "stdout",
     "output_type": "stream",
     "text": [
      "For film with ID tt0449059 994 reviews were scraped\n"
     ]
    },
    {
     "name": "stderr",
     "output_type": "stream",
     "text": [
      "Scraping Reviews:   5%|▌         | 36/667 [26:24<10:59:57, 62.75s/it]"
     ]
    },
    {
     "name": "stdout",
     "output_type": "stream",
     "text": [
      "For film with ID tt0443453 1291 reviews were scraped\n"
     ]
    },
    {
     "name": "stderr",
     "output_type": "stream",
     "text": [
      "Scraping Reviews:   6%|▌         | 37/667 [27:53<12:23:55, 70.85s/it]"
     ]
    },
    {
     "name": "stdout",
     "output_type": "stream",
     "text": [
      "For film with ID tt0206634 1392 reviews were scraped\n"
     ]
    },
    {
     "name": "stderr",
     "output_type": "stream",
     "text": [
      "Scraping Reviews:   6%|▌         | 38/667 [28:24<10:16:21, 58.79s/it]"
     ]
    },
    {
     "name": "stdout",
     "output_type": "stream",
     "text": [
      "For film with ID tt0465538 417 reviews were scraped\n"
     ]
    },
    {
     "name": "stderr",
     "output_type": "stream",
     "text": [
      "Scraping Reviews:   6%|▌         | 39/667 [30:22<13:21:55, 76.62s/it]"
     ]
    },
    {
     "name": "stdout",
     "output_type": "stream",
     "text": [
      "For film with ID tt0469494 1468 reviews were scraped\n"
     ]
    },
    {
     "name": "stderr",
     "output_type": "stream",
     "text": [
      "Scraping Reviews:   6%|▌         | 40/667 [31:32<13:00:03, 74.65s/it]"
     ]
    },
    {
     "name": "stdout",
     "output_type": "stream",
     "text": [
      "For film with ID tt0408236 874 reviews were scraped\n"
     ]
    },
    {
     "name": "stderr",
     "output_type": "stream",
     "text": [
      "Scraping Reviews:   6%|▌         | 41/667 [31:53<10:08:23, 58.31s/it]"
     ]
    },
    {
     "name": "stdout",
     "output_type": "stream",
     "text": [
      "For film with ID tt0478134 237 reviews were scraped\n"
     ]
    },
    {
     "name": "stderr",
     "output_type": "stream",
     "text": [
      "Scraping Reviews:   6%|▋         | 42/667 [32:26<8:49:08, 50.80s/it] "
     ]
    },
    {
     "name": "stdout",
     "output_type": "stream",
     "text": [
      "For film with ID tt0765443 444 reviews were scraped\n"
     ]
    },
    {
     "name": "stderr",
     "output_type": "stream",
     "text": [
      "Scraping Reviews:   6%|▋         | 43/667 [32:47<7:14:30, 41.78s/it]"
     ]
    },
    {
     "name": "stdout",
     "output_type": "stream",
     "text": [
      "For film with ID tt0414055 231 reviews were scraped\n"
     ]
    },
    {
     "name": "stderr",
     "output_type": "stream",
     "text": [
      "Scraping Reviews:   7%|▋         | 44/667 [32:58<5:38:54, 32.64s/it]"
     ]
    },
    {
     "name": "stdout",
     "output_type": "stream",
     "text": [
      "For film with ID tt0491747 119 reviews were scraped\n"
     ]
    },
    {
     "name": "stderr",
     "output_type": "stream",
     "text": [
      "Scraping Reviews:   7%|▋         | 45/667 [33:20<5:04:20, 29.36s/it]"
     ]
    },
    {
     "name": "stdout",
     "output_type": "stream",
     "text": [
      "For film with ID tt0450188 258 reviews were scraped\n"
     ]
    },
    {
     "name": "stderr",
     "output_type": "stream",
     "text": [
      "Scraping Reviews:   7%|▋         | 46/667 [33:31<4:08:46, 24.04s/it]"
     ]
    },
    {
     "name": "stdout",
     "output_type": "stream",
     "text": [
      "For film with ID tt0775529 121 reviews were scraped\n"
     ]
    },
    {
     "name": "stderr",
     "output_type": "stream",
     "text": [
      "Scraping Reviews:   7%|▋         | 47/667 [34:41<6:30:40, 37.81s/it]"
     ]
    },
    {
     "name": "stdout",
     "output_type": "stream",
     "text": [
      "For film with ID tt0467406 936 reviews were scraped\n"
     ]
    },
    {
     "name": "stderr",
     "output_type": "stream",
     "text": [
      "Scraping Reviews:   7%|▋         | 48/667 [34:57<5:23:22, 31.35s/it]"
     ]
    },
    {
     "name": "stdout",
     "output_type": "stream",
     "text": [
      "For film with ID tt0808417 188 reviews were scraped\n"
     ]
    },
    {
     "name": "stderr",
     "output_type": "stream",
     "text": [
      "Scraping Reviews:   7%|▋         | 49/667 [35:58<6:54:39, 40.26s/it]"
     ]
    },
    {
     "name": "stdout",
     "output_type": "stream",
     "text": [
      "For film with ID tt0382932 840 reviews were scraped\n"
     ]
    },
    {
     "name": "stderr",
     "output_type": "stream",
     "text": [
      "Scraping Reviews:   7%|▋         | 50/667 [36:11<5:29:01, 32.00s/it]"
     ]
    },
    {
     "name": "stdout",
     "output_type": "stream",
     "text": [
      "For film with ID tt0423294 148 reviews were scraped\n"
     ]
    },
    {
     "name": "stderr",
     "output_type": "stream",
     "text": [
      "Scraping Reviews:   8%|▊         | 51/667 [36:27<4:39:45, 27.25s/it]"
     ]
    },
    {
     "name": "stdout",
     "output_type": "stream",
     "text": [
      "For film with ID tt0401383 198 reviews were scraped\n"
     ]
    },
    {
     "name": "stderr",
     "output_type": "stream",
     "text": [
      "Scraping Reviews:   8%|▊         | 52/667 [39:22<12:13:37, 71.57s/it]"
     ]
    },
    {
     "name": "stdout",
     "output_type": "stream",
     "text": [
      "For film with ID tt0477348 2005 reviews were scraped\n"
     ]
    },
    {
     "name": "stderr",
     "output_type": "stream",
     "text": [
      "Scraping Reviews:   8%|▊         | 53/667 [39:30<8:55:14, 52.30s/it] "
     ]
    },
    {
     "name": "stdout",
     "output_type": "stream",
     "text": [
      "For film with ID tt0912593 46 reviews were scraped\n"
     ]
    },
    {
     "name": "stderr",
     "output_type": "stream",
     "text": [
      "Scraping Reviews:   8%|▊         | 54/667 [39:33<6:24:56, 37.68s/it]"
     ]
    },
    {
     "name": "stdout",
     "output_type": "stream",
     "text": [
      "For film with ID tt0970184 6 reviews were scraped\n"
     ]
    },
    {
     "name": "stderr",
     "output_type": "stream",
     "text": [
      "Scraping Reviews:   8%|▊         | 55/667 [40:04<6:01:58, 35.49s/it]"
     ]
    },
    {
     "name": "stdout",
     "output_type": "stream",
     "text": [
      "For film with ID tt0386032 399 reviews were scraped\n"
     ]
    },
    {
     "name": "stderr",
     "output_type": "stream",
     "text": [
      "Scraping Reviews:   8%|▊         | 56/667 [40:11<4:34:48, 26.99s/it]"
     ]
    },
    {
     "name": "stdout",
     "output_type": "stream",
     "text": [
      "For film with ID tt0854678 59 reviews were scraped\n"
     ]
    },
    {
     "name": "stderr",
     "output_type": "stream",
     "text": [
      "Scraping Reviews:   9%|▊         | 57/667 [40:15<3:24:03, 20.07s/it]"
     ]
    },
    {
     "name": "stdout",
     "output_type": "stream",
     "text": [
      "For film with ID tt0912599 19 reviews were scraped\n"
     ]
    },
    {
     "name": "stderr",
     "output_type": "stream",
     "text": [
      "Scraping Reviews:   9%|▊         | 58/667 [40:20<2:38:29, 15.61s/it]"
     ]
    },
    {
     "name": "stdout",
     "output_type": "stream",
     "text": [
      "For film with ID tt0758732 28 reviews were scraped\n"
     ]
    },
    {
     "name": "stderr",
     "output_type": "stream",
     "text": [
      "Scraping Reviews:   9%|▉         | 59/667 [40:31<2:25:01, 14.31s/it]"
     ]
    },
    {
     "name": "stdout",
     "output_type": "stream",
     "text": [
      "For film with ID tt0813547 114 reviews were scraped\n"
     ]
    },
    {
     "name": "stderr",
     "output_type": "stream",
     "text": [
      "Scraping Reviews:   9%|▉         | 60/667 [40:40<2:06:40, 12.52s/it]"
     ]
    },
    {
     "name": "stdout",
     "output_type": "stream",
     "text": [
      "For film with ID tt0879843 76 reviews were scraped\n"
     ]
    },
    {
     "name": "stderr",
     "output_type": "stream",
     "text": [
      "Scraping Reviews:   9%|▉         | 61/667 [40:55<2:16:35, 13.52s/it]"
     ]
    },
    {
     "name": "stdout",
     "output_type": "stream",
     "text": [
      "For film with ID tt0416044 178 reviews were scraped\n"
     ]
    },
    {
     "name": "stderr",
     "output_type": "stream",
     "text": [
      "Scraping Reviews:   9%|▉         | 62/667 [41:01<1:50:54, 11.00s/it]"
     ]
    },
    {
     "name": "stdout",
     "output_type": "stream",
     "text": [
      "For film with ID tt0488478 41 reviews were scraped\n"
     ]
    },
    {
     "name": "stderr",
     "output_type": "stream",
     "text": [
      "Scraping Reviews:   9%|▉         | 63/667 [42:02<4:24:01, 26.23s/it]"
     ]
    },
    {
     "name": "stdout",
     "output_type": "stream",
     "text": [
      "For film with ID tt0783233 693 reviews were scraped\n"
     ]
    },
    {
     "name": "stderr",
     "output_type": "stream",
     "text": [
      "Scraping Reviews:  10%|▉         | 64/667 [42:29<4:24:35, 26.33s/it]"
     ]
    },
    {
     "name": "stdout",
     "output_type": "stream",
     "text": [
      "For film with ID tt0805564 356 reviews were scraped\n"
     ]
    },
    {
     "name": "stderr",
     "output_type": "stream",
     "text": [
      "Scraping Reviews:  10%|▉         | 65/667 [42:42<3:44:03, 22.33s/it]"
     ]
    },
    {
     "name": "stdout",
     "output_type": "stream",
     "text": [
      "For film with ID tt0857191 154 reviews were scraped\n"
     ]
    },
    {
     "name": "stderr",
     "output_type": "stream",
     "text": [
      "Scraping Reviews:  10%|▉         | 66/667 [43:02<3:38:29, 21.81s/it]"
     ]
    },
    {
     "name": "stdout",
     "output_type": "stream",
     "text": [
      "For film with ID tt0870111 258 reviews were scraped\n"
     ]
    },
    {
     "name": "stderr",
     "output_type": "stream",
     "text": [
      "Scraping Reviews:  10%|█         | 67/667 [43:27<3:46:09, 22.62s/it]"
     ]
    },
    {
     "name": "stdout",
     "output_type": "stream",
     "text": [
      "For film with ID tt1013753 308 reviews were scraped\n"
     ]
    },
    {
     "name": "stderr",
     "output_type": "stream",
     "text": [
      "Scraping Reviews:  10%|█         | 68/667 [44:48<6:40:55, 40.16s/it]"
     ]
    },
    {
     "name": "stdout",
     "output_type": "stream",
     "text": [
      "For film with ID tt0421715 1037 reviews were scraped\n"
     ]
    },
    {
     "name": "stderr",
     "output_type": "stream",
     "text": [
      "Scraping Reviews:  10%|█         | 69/667 [45:37<7:06:37, 42.81s/it]"
     ]
    },
    {
     "name": "stdout",
     "output_type": "stream",
     "text": [
      "For film with ID tt1125849 609 reviews were scraped\n"
     ]
    },
    {
     "name": "stderr",
     "output_type": "stream",
     "text": [
      "Scraping Reviews:  10%|█         | 70/667 [46:01<6:09:46, 37.16s/it]"
     ]
    },
    {
     "name": "stdout",
     "output_type": "stream",
     "text": [
      "For film with ID tt1084950 297 reviews were scraped\n"
     ]
    },
    {
     "name": "stderr",
     "output_type": "stream",
     "text": [
      "Scraping Reviews:  11%|█         | 71/667 [46:35<5:59:01, 36.14s/it]"
     ]
    },
    {
     "name": "stdout",
     "output_type": "stream",
     "text": [
      "For film with ID tt0824747 456 reviews were scraped\n"
     ]
    },
    {
     "name": "stderr",
     "output_type": "stream",
     "text": [
      "Scraping Reviews:  11%|█         | 72/667 [46:44<4:39:44, 28.21s/it]"
     ]
    },
    {
     "name": "stdout",
     "output_type": "stream",
     "text": [
      "For film with ID tt0978759 100 reviews were scraped\n"
     ]
    },
    {
     "name": "stderr",
     "output_type": "stream",
     "text": [
      "Scraping Reviews:  11%|█         | 73/667 [47:15<4:45:27, 28.83s/it]"
     ]
    },
    {
     "name": "stdout",
     "output_type": "stream",
     "text": [
      "For film with ID tt0918927 393 reviews were scraped\n"
     ]
    },
    {
     "name": "stderr",
     "output_type": "stream",
     "text": [
      "Scraping Reviews:  11%|█         | 74/667 [47:51<5:05:28, 30.91s/it]"
     ]
    },
    {
     "name": "stdout",
     "output_type": "stream",
     "text": [
      "For film with ID tt0976051 459 reviews were scraped\n"
     ]
    },
    {
     "name": "stderr",
     "output_type": "stream",
     "text": [
      "Scraping Reviews:  11%|█         | 75/667 [48:11<4:33:49, 27.75s/it]"
     ]
    },
    {
     "name": "stdout",
     "output_type": "stream",
     "text": [
      "For film with ID tt0397892 238 reviews were scraped\n"
     ]
    },
    {
     "name": "stderr",
     "output_type": "stream",
     "text": [
      "Scraping Reviews:  11%|█▏        | 76/667 [48:49<5:02:39, 30.73s/it]"
     ]
    },
    {
     "name": "stdout",
     "output_type": "stream",
     "text": [
      "For film with ID tt0441773 503 reviews were scraped\n"
     ]
    },
    {
     "name": "stderr",
     "output_type": "stream",
     "text": [
      "Scraping Reviews:  12%|█▏        | 77/667 [50:45<9:16:07, 56.56s/it]"
     ]
    },
    {
     "name": "stdout",
     "output_type": "stream",
     "text": [
      "For film with ID tt0910970 1431 reviews were scraped\n"
     ]
    },
    {
     "name": "stderr",
     "output_type": "stream",
     "text": [
      "Scraping Reviews:  12%|█▏        | 78/667 [52:18<11:01:56, 67.43s/it]"
     ]
    },
    {
     "name": "stdout",
     "output_type": "stream",
     "text": [
      "For film with ID tt1010048 1172 reviews were scraped\n"
     ]
    },
    {
     "name": "stderr",
     "output_type": "stream",
     "text": [
      "Scraping Reviews:  12%|█▏        | 79/667 [52:22<7:54:01, 48.37s/it] "
     ]
    },
    {
     "name": "stdout",
     "output_type": "stream",
     "text": [
      "For film with ID tt1157685 4 reviews were scraped\n"
     ]
    },
    {
     "name": "stderr",
     "output_type": "stream",
     "text": [
      "Scraping Reviews:  12%|█▏        | 80/667 [52:31<5:57:21, 36.53s/it]"
     ]
    },
    {
     "name": "stdout",
     "output_type": "stream",
     "text": [
      "For film with ID tt1093824 66 reviews were scraped\n"
     ]
    },
    {
     "name": "stderr",
     "output_type": "stream",
     "text": [
      "Scraping Reviews:  12%|█▏        | 81/667 [52:35<4:21:44, 26.80s/it]"
     ]
    },
    {
     "name": "stdout",
     "output_type": "stream",
     "text": [
      "For film with ID tt1252486 5 reviews were scraped\n"
     ]
    },
    {
     "name": "stderr",
     "output_type": "stream",
     "text": [
      "Scraping Reviews:  12%|█▏        | 82/667 [52:55<4:01:38, 24.78s/it]"
     ]
    },
    {
     "name": "stdout",
     "output_type": "stream",
     "text": [
      "For film with ID tt1155592 160 reviews were scraped\n"
     ]
    },
    {
     "name": "stderr",
     "output_type": "stream",
     "text": [
      "Scraping Reviews:  12%|█▏        | 83/667 [52:59<3:01:08, 18.61s/it]"
     ]
    },
    {
     "name": "stdout",
     "output_type": "stream",
     "text": [
      "For film with ID tt1149405 21 reviews were scraped\n"
     ]
    },
    {
     "name": "stderr",
     "output_type": "stream",
     "text": [
      "Scraping Reviews:  13%|█▎        | 84/667 [53:11<2:41:28, 16.62s/it]"
     ]
    },
    {
     "name": "stdout",
     "output_type": "stream",
     "text": [
      "For film with ID tt0765432 115 reviews were scraped\n"
     ]
    },
    {
     "name": "stderr",
     "output_type": "stream",
     "text": [
      "Scraping Reviews:  13%|█▎        | 85/667 [53:21<2:22:00, 14.64s/it]"
     ]
    },
    {
     "name": "stdout",
     "output_type": "stream",
     "text": [
      "For film with ID tt1068646 88 reviews were scraped\n"
     ]
    },
    {
     "name": "stderr",
     "output_type": "stream",
     "text": [
      "Scraping Reviews:  13%|█▎        | 86/667 [53:36<2:20:26, 14.50s/it]"
     ]
    },
    {
     "name": "stdout",
     "output_type": "stream",
     "text": [
      "For film with ID tt1069238 168 reviews were scraped\n"
     ]
    },
    {
     "name": "stderr",
     "output_type": "stream",
     "text": [
      "Scraping Reviews:  13%|█▎        | 87/667 [53:42<1:57:59, 12.21s/it]"
     ]
    },
    {
     "name": "stdout",
     "output_type": "stream",
     "text": [
      "For film with ID tt1173745 55 reviews were scraped\n"
     ]
    },
    {
     "name": "stderr",
     "output_type": "stream",
     "text": [
      "Scraping Reviews:  13%|█▎        | 88/667 [53:56<2:01:19, 12.57s/it]"
     ]
    },
    {
     "name": "stdout",
     "output_type": "stream",
     "text": [
      "For film with ID tt1185616 156 reviews were scraped\n"
     ]
    },
    {
     "name": "stderr",
     "output_type": "stream",
     "text": [
      "Scraping Reviews:  13%|█▎        | 89/667 [54:16<2:22:20, 14.78s/it]"
     ]
    },
    {
     "name": "stdout",
     "output_type": "stream",
     "text": [
      "For film with ID tt1045670 208 reviews were scraped\n"
     ]
    },
    {
     "name": "stderr",
     "output_type": "stream",
     "text": [
      "Scraping Reviews:  13%|█▎        | 90/667 [55:08<4:10:42, 26.07s/it]"
     ]
    },
    {
     "name": "stdout",
     "output_type": "stream",
     "text": [
      "For film with ID tt0780536 679 reviews were scraped\n"
     ]
    },
    {
     "name": "stderr",
     "output_type": "stream",
     "text": [
      "Scraping Reviews:  14%|█▎        | 91/667 [55:30<3:58:08, 24.81s/it]"
     ]
    },
    {
     "name": "stdout",
     "output_type": "stream",
     "text": [
      "For film with ID tt1263670 251 reviews were scraped\n"
     ]
    },
    {
     "name": "stderr",
     "output_type": "stream",
     "text": [
      "Scraping Reviews:  14%|█▍        | 92/667 [56:14<4:54:15, 30.71s/it]"
     ]
    },
    {
     "name": "stdout",
     "output_type": "stream",
     "text": [
      "For film with ID tt1193138 556 reviews were scraped\n"
     ]
    },
    {
     "name": "stderr",
     "output_type": "stream",
     "text": [
      "Scraping Reviews:  14%|█▍        | 93/667 [56:37<4:30:31, 28.28s/it]"
     ]
    },
    {
     "name": "stdout",
     "output_type": "stream",
     "text": [
      "For film with ID tt1315981 270 reviews were scraped\n"
     ]
    },
    {
     "name": "stderr",
     "output_type": "stream",
     "text": [
      "Scraping Reviews:  14%|█▍        | 94/667 [57:02<4:19:24, 27.16s/it]"
     ]
    },
    {
     "name": "stdout",
     "output_type": "stream",
     "text": [
      "For film with ID tt1057500 325 reviews were scraped\n"
     ]
    },
    {
     "name": "stderr",
     "output_type": "stream",
     "text": [
      "Scraping Reviews:  14%|█▍        | 95/667 [58:20<6:46:23, 42.63s/it]"
     ]
    },
    {
     "name": "stdout",
     "output_type": "stream",
     "text": [
      "For film with ID tt0887912 987 reviews were scraped\n"
     ]
    },
    {
     "name": "stderr",
     "output_type": "stream",
     "text": [
      "Scraping Reviews:  14%|█▍        | 96/667 [59:02<6:43:35, 42.41s/it]"
     ]
    },
    {
     "name": "stdout",
     "output_type": "stream",
     "text": [
      "For film with ID tt0878804 561 reviews were scraped\n"
     ]
    },
    {
     "name": "stderr",
     "output_type": "stream",
     "text": [
      "Scraping Reviews:  15%|█▍        | 97/667 [59:13<5:13:43, 33.02s/it]"
     ]
    },
    {
     "name": "stdout",
     "output_type": "stream",
     "text": [
      "For film with ID tt0824758 75 reviews were scraped\n"
     ]
    },
    {
     "name": "stderr",
     "output_type": "stream",
     "text": [
      "Scraping Reviews:  15%|█▍        | 98/667 [59:37<4:46:24, 30.20s/it]"
     ]
    },
    {
     "name": "stdout",
     "output_type": "stream",
     "text": [
      "For film with ID tt1174732 257 reviews were scraped\n"
     ]
    },
    {
     "name": "stderr",
     "output_type": "stream",
     "text": [
      "Scraping Reviews:  15%|█▍        | 99/667 [1:00:02<4:31:30, 28.68s/it]"
     ]
    },
    {
     "name": "stdout",
     "output_type": "stream",
     "text": [
      "For film with ID tt0929632 316 reviews were scraped\n"
     ]
    },
    {
     "name": "stderr",
     "output_type": "stream",
     "text": [
      "Scraping Reviews:  15%|█▍        | 100/667 [1:00:32<4:33:15, 28.92s/it]"
     ]
    },
    {
     "name": "stdout",
     "output_type": "stream",
     "text": [
      "For film with ID tt1135503 339 reviews were scraped\n"
     ]
    },
    {
     "name": "stderr",
     "output_type": "stream",
     "text": [
      "Scraping Reviews:  15%|█▌        | 101/667 [1:01:06<4:49:21, 30.67s/it]"
     ]
    },
    {
     "name": "stdout",
     "output_type": "stream",
     "text": [
      "For film with ID tt0327597 462 reviews were scraped\n"
     ]
    },
    {
     "name": "stderr",
     "output_type": "stream",
     "text": [
      "Scraping Reviews:  15%|█▌        | 102/667 [1:01:38<4:50:37, 30.86s/it]"
     ]
    },
    {
     "name": "stdout",
     "output_type": "stream",
     "text": [
      "For film with ID tt0432283 397 reviews were scraped\n"
     ]
    },
    {
     "name": "stderr",
     "output_type": "stream",
     "text": [
      "Scraping Reviews:  15%|█▌        | 103/667 [1:02:00<4:25:42, 28.27s/it]"
     ]
    },
    {
     "name": "stdout",
     "output_type": "stream",
     "text": [
      "For film with ID tt0780521 279 reviews were scraped\n"
     ]
    },
    {
     "name": "stderr",
     "output_type": "stream",
     "text": [
      "Scraping Reviews:  16%|█▌        | 104/667 [1:02:11<3:36:03, 23.03s/it]"
     ]
    },
    {
     "name": "stdout",
     "output_type": "stream",
     "text": [
      "For film with ID tt0485601 105 reviews were scraped\n"
     ]
    },
    {
     "name": "stderr",
     "output_type": "stream",
     "text": [
      "Scraping Reviews:  16%|█▌        | 105/667 [1:03:31<6:16:09, 40.16s/it]"
     ]
    },
    {
     "name": "stdout",
     "output_type": "stream",
     "text": [
      "For film with ID tt1049413 1011 reviews were scraped\n"
     ]
    },
    {
     "name": "stderr",
     "output_type": "stream",
     "text": [
      "Scraping Reviews:  16%|█▌        | 106/667 [1:09:48<22:00:23, 141.22s/it]"
     ]
    },
    {
     "name": "stdout",
     "output_type": "stream",
     "text": [
      "For film with ID tt0499549 3667 reviews were scraped\n"
     ]
    },
    {
     "name": "stderr",
     "output_type": "stream",
     "text": [
      "Scraping Reviews:  16%|█▌        | 107/667 [1:12:43<23:34:00, 151.50s/it]"
     ]
    },
    {
     "name": "stdout",
     "output_type": "stream",
     "text": [
      "For film with ID tt0361748 2037 reviews were scraped\n"
     ]
    },
    {
     "name": "stderr",
     "output_type": "stream",
     "text": [
      "Scraping Reviews:  16%|█▌        | 108/667 [1:12:48<16:41:11, 107.46s/it]"
     ]
    },
    {
     "name": "stdout",
     "output_type": "stream",
     "text": [
      "For film with ID tt1333634 15 reviews were scraped\n"
     ]
    },
    {
     "name": "stderr",
     "output_type": "stream",
     "text": [
      "Scraping Reviews:  16%|█▋        | 109/667 [1:13:03<12:21:13, 79.70s/it] "
     ]
    },
    {
     "name": "stdout",
     "output_type": "stream",
     "text": [
      "For film with ID tt1313104 144 reviews were scraped\n"
     ]
    },
    {
     "name": "stderr",
     "output_type": "stream",
     "text": [
      "Scraping Reviews:  16%|█▋        | 110/667 [1:13:19<9:23:33, 60.71s/it] "
     ]
    },
    {
     "name": "stdout",
     "output_type": "stream",
     "text": [
      "For film with ID tt1286537 181 reviews were scraped\n"
     ]
    },
    {
     "name": "stderr",
     "output_type": "stream",
     "text": [
      "Scraping Reviews:  17%|█▋        | 111/667 [1:13:25<6:48:20, 44.06s/it]"
     ]
    },
    {
     "name": "stdout",
     "output_type": "stream",
     "text": [
      "For film with ID tt1319726 21 reviews were scraped\n"
     ]
    },
    {
     "name": "stderr",
     "output_type": "stream",
     "text": [
      "Scraping Reviews:  17%|█▋        | 112/667 [1:13:29<4:57:01, 32.11s/it]"
     ]
    },
    {
     "name": "stdout",
     "output_type": "stream",
     "text": [
      "For film with ID tt0489342 9 reviews were scraped\n"
     ]
    },
    {
     "name": "stderr",
     "output_type": "stream",
     "text": [
      "Scraping Reviews:  17%|█▋        | 113/667 [1:13:34<3:42:56, 24.15s/it]"
     ]
    },
    {
     "name": "stdout",
     "output_type": "stream",
     "text": [
      "For film with ID tt1077262 34 reviews were scraped\n"
     ]
    },
    {
     "name": "stderr",
     "output_type": "stream",
     "text": [
      "Scraping Reviews:  17%|█▋        | 114/667 [1:13:41<2:53:25, 18.82s/it]"
     ]
    },
    {
     "name": "stdout",
     "output_type": "stream",
     "text": [
      "For film with ID tt1206488 35 reviews were scraped\n"
     ]
    },
    {
     "name": "stderr",
     "output_type": "stream",
     "text": [
      "Scraping Reviews:  17%|█▋        | 115/667 [1:13:55<2:41:34, 17.56s/it]"
     ]
    },
    {
     "name": "stdout",
     "output_type": "stream",
     "text": [
      "For film with ID tt1235166 167 reviews were scraped\n"
     ]
    },
    {
     "name": "stderr",
     "output_type": "stream",
     "text": [
      "Scraping Reviews:  17%|█▋        | 116/667 [1:14:21<3:03:54, 20.03s/it]"
     ]
    },
    {
     "name": "stdout",
     "output_type": "stream",
     "text": [
      "For film with ID tt1305806 329 reviews were scraped\n"
     ]
    },
    {
     "name": "stderr",
     "output_type": "stream",
     "text": [
      "Scraping Reviews:  18%|█▊        | 117/667 [1:14:39<2:57:58, 19.42s/it]"
     ]
    },
    {
     "name": "stdout",
     "output_type": "stream",
     "text": [
      "For film with ID tt1149362 207 reviews were scraped\n"
     ]
    },
    {
     "name": "stderr",
     "output_type": "stream",
     "text": [
      "Scraping Reviews:  18%|█▊        | 118/667 [1:16:32<7:14:23, 47.47s/it]"
     ]
    },
    {
     "name": "stdout",
     "output_type": "stream",
     "text": [
      "For film with ID tt1136608 1408 reviews were scraped\n"
     ]
    },
    {
     "name": "stderr",
     "output_type": "stream",
     "text": [
      "Scraping Reviews:  18%|█▊        | 119/667 [1:17:02<6:26:09, 42.28s/it]"
     ]
    },
    {
     "name": "stdout",
     "output_type": "stream",
     "text": [
      "For film with ID tt1019452 397 reviews were scraped\n"
     ]
    },
    {
     "name": "stderr",
     "output_type": "stream",
     "text": [
      "Scraping Reviews:  18%|█▊        | 120/667 [1:17:16<5:08:14, 33.81s/it]"
     ]
    },
    {
     "name": "stdout",
     "output_type": "stream",
     "text": [
      "For film with ID tt1226774 155 reviews were scraped\n"
     ]
    },
    {
     "name": "stderr",
     "output_type": "stream",
     "text": [
      "Scraping Reviews:  18%|█▊        | 121/667 [1:17:27<4:05:23, 26.97s/it]"
     ]
    },
    {
     "name": "stdout",
     "output_type": "stream",
     "text": [
      "For film with ID tt0790712 95 reviews were scraped\n"
     ]
    },
    {
     "name": "stderr",
     "output_type": "stream",
     "text": [
      "Scraping Reviews:  18%|█▊        | 122/667 [1:17:42<3:31:00, 23.23s/it]"
     ]
    },
    {
     "name": "stdout",
     "output_type": "stream",
     "text": [
      "For film with ID tt1164999 156 reviews were scraped\n"
     ]
    },
    {
     "name": "stderr",
     "output_type": "stream",
     "text": [
      "Scraping Reviews:  18%|█▊        | 123/667 [1:18:47<5:24:21, 35.77s/it]"
     ]
    },
    {
     "name": "stdout",
     "output_type": "stream",
     "text": [
      "For film with ID tt1403865 806 reviews were scraped\n"
     ]
    },
    {
     "name": "stderr",
     "output_type": "stream",
     "text": [
      "Scraping Reviews:  19%|█▊        | 124/667 [1:20:07<7:24:03, 49.07s/it]"
     ]
    },
    {
     "name": "stdout",
     "output_type": "stream",
     "text": [
      "For film with ID tt1285016 975 reviews were scraped\n"
     ]
    },
    {
     "name": "stderr",
     "output_type": "stream",
     "text": [
      "Scraping Reviews:  19%|█▊        | 125/667 [1:21:07<7:52:33, 52.31s/it]"
     ]
    },
    {
     "name": "stdout",
     "output_type": "stream",
     "text": [
      "For film with ID tt1504320 750 reviews were scraped\n"
     ]
    },
    {
     "name": "stderr",
     "output_type": "stream",
     "text": [
      "Scraping Reviews:  19%|█▉        | 126/667 [1:21:47<7:18:25, 48.62s/it]"
     ]
    },
    {
     "name": "stdout",
     "output_type": "stream",
     "text": [
      "For film with ID tt1542344 517 reviews were scraped\n"
     ]
    },
    {
     "name": "stderr",
     "output_type": "stream",
     "text": [
      "Scraping Reviews:  19%|█▉        | 127/667 [1:22:12<6:13:44, 41.53s/it]"
     ]
    },
    {
     "name": "stdout",
     "output_type": "stream",
     "text": [
      "For film with ID tt0842926 299 reviews were scraped\n"
     ]
    },
    {
     "name": "stderr",
     "output_type": "stream",
     "text": [
      "Scraping Reviews:  19%|█▉        | 128/667 [1:22:26<4:59:03, 33.29s/it]"
     ]
    },
    {
     "name": "stdout",
     "output_type": "stream",
     "text": [
      "For film with ID tt0935075 141 reviews were scraped\n"
     ]
    },
    {
     "name": "stderr",
     "output_type": "stream",
     "text": [
      "Scraping Reviews:  19%|█▉        | 129/667 [1:22:56<4:48:40, 32.19s/it]"
     ]
    },
    {
     "name": "stdout",
     "output_type": "stream",
     "text": [
      "For film with ID tt1399683 360 reviews were scraped\n"
     ]
    },
    {
     "name": "stderr",
     "output_type": "stream",
     "text": [
      "Scraping Reviews:  19%|█▉        | 130/667 [1:24:51<8:30:29, 57.04s/it]"
     ]
    },
    {
     "name": "stdout",
     "output_type": "stream",
     "text": [
      "For film with ID tt0947798 1380 reviews were scraped\n"
     ]
    },
    {
     "name": "stderr",
     "output_type": "stream",
     "text": [
      "Scraping Reviews:  20%|█▉        | 131/667 [1:25:21<7:17:42, 49.00s/it]"
     ]
    },
    {
     "name": "stdout",
     "output_type": "stream",
     "text": [
      "For film with ID tt1120985 381 reviews were scraped\n"
     ]
    },
    {
     "name": "stderr",
     "output_type": "stream",
     "text": [
      "Scraping Reviews:  20%|█▉        | 132/667 [1:26:12<7:22:20, 49.61s/it]"
     ]
    },
    {
     "name": "stdout",
     "output_type": "stream",
     "text": [
      "For film with ID tt0892769 682 reviews were scraped\n"
     ]
    },
    {
     "name": "stderr",
     "output_type": "stream",
     "text": [
      "Scraping Reviews:  20%|█▉        | 133/667 [1:26:27<5:48:28, 39.15s/it]"
     ]
    },
    {
     "name": "stdout",
     "output_type": "stream",
     "text": [
      "For film with ID tt0775489 115 reviews were scraped\n"
     ]
    },
    {
     "name": "stderr",
     "output_type": "stream",
     "text": [
      "Scraping Reviews:  20%|██        | 134/667 [1:27:39<7:17:42, 49.27s/it]"
     ]
    },
    {
     "name": "stdout",
     "output_type": "stream",
     "text": [
      "For film with ID tt0435761 941 reviews were scraped\n"
     ]
    },
    {
     "name": "stderr",
     "output_type": "stream",
     "text": [
      "Scraping Reviews:  20%|██        | 135/667 [1:28:19<6:50:44, 46.32s/it]"
     ]
    },
    {
     "name": "stdout",
     "output_type": "stream",
     "text": [
      "For film with ID tt0964517 464 reviews were scraped\n"
     ]
    },
    {
     "name": "stderr",
     "output_type": "stream",
     "text": [
      "Scraping Reviews:  20%|██        | 136/667 [1:28:33<5:25:34, 36.79s/it]"
     ]
    },
    {
     "name": "stdout",
     "output_type": "stream",
     "text": [
      "For film with ID tt1587707 115 reviews were scraped\n"
     ]
    },
    {
     "name": "stderr",
     "output_type": "stream",
     "text": [
      "Scraping Reviews:  21%|██        | 137/667 [1:28:42<4:08:53, 28.18s/it]"
     ]
    },
    {
     "name": "stdout",
     "output_type": "stream",
     "text": [
      "For film with ID tt1558250 50 reviews were scraped\n"
     ]
    },
    {
     "name": "stderr",
     "output_type": "stream",
     "text": [
      "Scraping Reviews:  21%|██        | 138/667 [1:28:55<3:30:36, 23.89s/it]"
     ]
    },
    {
     "name": "stdout",
     "output_type": "stream",
     "text": [
      "For film with ID tt1645089 154 reviews were scraped\n"
     ]
    },
    {
     "name": "stderr",
     "output_type": "stream",
     "text": [
      "Scraping Reviews:  21%|██        | 139/667 [1:29:05<2:53:45, 19.75s/it]"
     ]
    },
    {
     "name": "stdout",
     "output_type": "stream",
     "text": [
      "For film with ID tt1559549 77 reviews were scraped\n"
     ]
    },
    {
     "name": "stderr",
     "output_type": "stream",
     "text": [
      "Scraping Reviews:  21%|██        | 140/667 [1:29:10<2:14:28, 15.31s/it]"
     ]
    },
    {
     "name": "stdout",
     "output_type": "stream",
     "text": [
      "For film with ID tt1268204 22 reviews were scraped\n"
     ]
    },
    {
     "name": "stderr",
     "output_type": "stream",
     "text": [
      "Scraping Reviews:  21%|██        | 141/667 [1:29:34<2:34:41, 17.64s/it]"
     ]
    },
    {
     "name": "stdout",
     "output_type": "stream",
     "text": [
      "For film with ID tt1379182 304 reviews were scraped\n"
     ]
    },
    {
     "name": "stderr",
     "output_type": "stream",
     "text": [
      "Scraping Reviews:  21%|██▏       | 142/667 [1:29:46<2:20:08, 16.02s/it]"
     ]
    },
    {
     "name": "stdout",
     "output_type": "stream",
     "text": [
      "For film with ID tt1340107 96 reviews were scraped\n"
     ]
    },
    {
     "name": "stderr",
     "output_type": "stream",
     "text": [
      "Scraping Reviews:  21%|██▏       | 143/667 [1:30:11<2:43:27, 18.72s/it]"
     ]
    },
    {
     "name": "stdout",
     "output_type": "stream",
     "text": [
      "For film with ID tt1255953 315 reviews were scraped\n"
     ]
    },
    {
     "name": "stderr",
     "output_type": "stream",
     "text": [
      "Scraping Reviews:  22%|██▏       | 144/667 [1:30:16<2:08:40, 14.76s/it]"
     ]
    },
    {
     "name": "stdout",
     "output_type": "stream",
     "text": [
      "For film with ID tt1229381 14 reviews were scraped\n"
     ]
    },
    {
     "name": "stderr",
     "output_type": "stream",
     "text": [
      "Scraping Reviews:  22%|██▏       | 145/667 [1:38:35<23:12:20, 160.04s/it]"
     ]
    },
    {
     "name": "stdout",
     "output_type": "stream",
     "text": [
      "For film with ID tt1375666 4543 reviews were scraped\n"
     ]
    },
    {
     "name": "stderr",
     "output_type": "stream",
     "text": [
      "Scraping Reviews:  22%|██▏       | 146/667 [1:38:50<16:52:17, 116.58s/it]"
     ]
    },
    {
     "name": "stdout",
     "output_type": "stream",
     "text": [
      "For film with ID tt1431181 147 reviews were scraped\n"
     ]
    },
    {
     "name": "stderr",
     "output_type": "stream",
     "text": [
      "Scraping Reviews:  22%|██▏       | 147/667 [1:39:00<12:13:10, 84.60s/it] "
     ]
    },
    {
     "name": "stdout",
     "output_type": "stream",
     "text": [
      "For film with ID tt1554091 84 reviews were scraped\n"
     ]
    },
    {
     "name": "stderr",
     "output_type": "stream",
     "text": [
      "Scraping Reviews:  22%|██▏       | 148/667 [1:39:42<10:19:38, 71.63s/it]"
     ]
    },
    {
     "name": "stdout",
     "output_type": "stream",
     "text": [
      "For film with ID tt1033575 490 reviews were scraped\n"
     ]
    },
    {
     "name": "stderr",
     "output_type": "stream",
     "text": [
      "Scraping Reviews:  22%|██▏       | 149/667 [1:40:35<9:30:29, 66.08s/it] "
     ]
    },
    {
     "name": "stdout",
     "output_type": "stream",
     "text": [
      "For film with ID tt1655442 705 reviews were scraped\n"
     ]
    },
    {
     "name": "stderr",
     "output_type": "stream",
     "text": [
      "Scraping Reviews:  22%|██▏       | 150/667 [1:41:28<8:54:40, 62.05s/it]"
     ]
    },
    {
     "name": "stdout",
     "output_type": "stream",
     "text": [
      "For film with ID tt1340800 613 reviews were scraped\n"
     ]
    },
    {
     "name": "stderr",
     "output_type": "stream",
     "text": [
      "Scraping Reviews:  23%|██▎       | 151/667 [1:42:12<8:08:07, 56.76s/it]"
     ]
    },
    {
     "name": "stdout",
     "output_type": "stream",
     "text": [
      "For film with ID tt1210166 473 reviews were scraped\n"
     ]
    },
    {
     "name": "stderr",
     "output_type": "stream",
     "text": [
      "Scraping Reviews:  23%|██▎       | 152/667 [1:42:24<6:12:19, 43.38s/it]"
     ]
    },
    {
     "name": "stdout",
     "output_type": "stream",
     "text": [
      "For film with ID tt1602098 104 reviews were scraped\n"
     ]
    },
    {
     "name": "stderr",
     "output_type": "stream",
     "text": [
      "Scraping Reviews:  23%|██▎       | 153/667 [1:43:12<6:22:08, 44.61s/it]"
     ]
    },
    {
     "name": "stdout",
     "output_type": "stream",
     "text": [
      "For film with ID tt1454029 569 reviews were scraped\n"
     ]
    },
    {
     "name": "stderr",
     "output_type": "stream",
     "text": [
      "Scraping Reviews:  23%|██▎       | 154/667 [1:44:22<7:28:21, 52.44s/it]"
     ]
    },
    {
     "name": "stdout",
     "output_type": "stream",
     "text": [
      "For film with ID tt1568346 805 reviews were scraped\n"
     ]
    },
    {
     "name": "stderr",
     "output_type": "stream",
     "text": [
      "Scraping Reviews:  23%|██▎       | 155/667 [1:44:58<6:45:09, 47.48s/it]"
     ]
    },
    {
     "name": "stdout",
     "output_type": "stream",
     "text": [
      "For film with ID tt1007029 427 reviews were scraped\n"
     ]
    },
    {
     "name": "stderr",
     "output_type": "stream",
     "text": [
      "Scraping Reviews:  23%|██▎       | 156/667 [1:45:19<5:35:58, 39.45s/it]"
     ]
    },
    {
     "name": "stdout",
     "output_type": "stream",
     "text": [
      "For film with ID tt1655420 222 reviews were scraped\n"
     ]
    },
    {
     "name": "stderr",
     "output_type": "stream",
     "text": [
      "Scraping Reviews:  24%|██▎       | 157/667 [1:45:26<4:11:47, 29.62s/it]"
     ]
    },
    {
     "name": "stdout",
     "output_type": "stream",
     "text": [
      "For film with ID tt1673702 39 reviews were scraped\n"
     ]
    },
    {
     "name": "stderr",
     "output_type": "stream",
     "text": [
      "Scraping Reviews:  24%|██▎       | 158/667 [1:45:33<3:14:23, 22.92s/it]"
     ]
    },
    {
     "name": "stdout",
     "output_type": "stream",
     "text": [
      "For film with ID tt1235830 46 reviews were scraped\n"
     ]
    },
    {
     "name": "stderr",
     "output_type": "stream",
     "text": [
      "Scraping Reviews:  24%|██▍       | 159/667 [1:45:58<3:18:41, 23.47s/it]"
     ]
    },
    {
     "name": "stdout",
     "output_type": "stream",
     "text": [
      "For film with ID tt1302011 266 reviews were scraped\n"
     ]
    },
    {
     "name": "stderr",
     "output_type": "stream",
     "text": [
      "Scraping Reviews:  24%|██▍       | 160/667 [1:46:16<3:04:14, 21.80s/it]"
     ]
    },
    {
     "name": "stdout",
     "output_type": "stream",
     "text": [
      "For film with ID tt0448694 183 reviews were scraped\n"
     ]
    },
    {
     "name": "stderr",
     "output_type": "stream",
     "text": [
      "Scraping Reviews:  24%|██▍       | 161/667 [1:46:52<3:41:00, 26.21s/it]"
     ]
    },
    {
     "name": "stdout",
     "output_type": "stream",
     "text": [
      "For film with ID tt1192628 438 reviews were scraped\n"
     ]
    },
    {
     "name": "stderr",
     "output_type": "stream",
     "text": [
      "Scraping Reviews:  24%|██▍       | 162/667 [1:47:59<5:22:17, 38.29s/it]"
     ]
    },
    {
     "name": "stdout",
     "output_type": "stream",
     "text": [
      "For film with ID tt0970179 821 reviews were scraped\n"
     ]
    },
    {
     "name": "stderr",
     "output_type": "stream",
     "text": [
      "Scraping Reviews:  24%|██▍       | 163/667 [1:48:51<5:58:01, 42.62s/it]"
     ]
    },
    {
     "name": "stdout",
     "output_type": "stream",
     "text": [
      "For film with ID tt1605783 646 reviews were scraped\n"
     ]
    },
    {
     "name": "stderr",
     "output_type": "stream",
     "text": [
      "Scraping Reviews:  25%|██▍       | 164/667 [1:50:21<7:55:16, 56.69s/it]"
     ]
    },
    {
     "name": "stdout",
     "output_type": "stream",
     "text": [
      "For film with ID tt0478304 954 reviews were scraped\n"
     ]
    },
    {
     "name": "stderr",
     "output_type": "stream",
     "text": [
      "Scraping Reviews:  25%|██▍       | 165/667 [1:50:27<5:47:44, 41.56s/it]"
     ]
    },
    {
     "name": "stdout",
     "output_type": "stream",
     "text": [
      "For film with ID tt1748043 21 reviews were scraped\n"
     ]
    },
    {
     "name": "stderr",
     "output_type": "stream",
     "text": [
      "Scraping Reviews:  25%|██▍       | 166/667 [1:50:33<4:17:43, 30.87s/it]"
     ]
    },
    {
     "name": "stdout",
     "output_type": "stream",
     "text": [
      "For film with ID tt1787725 12 reviews were scraped\n"
     ]
    },
    {
     "name": "stderr",
     "output_type": "stream",
     "text": [
      "Scraping Reviews:  25%|██▌       | 167/667 [1:50:41<3:20:05, 24.01s/it]"
     ]
    },
    {
     "name": "stdout",
     "output_type": "stream",
     "text": [
      "For film with ID tt2028530 23 reviews were scraped\n"
     ]
    },
    {
     "name": "stderr",
     "output_type": "stream",
     "text": [
      "Scraping Reviews:  25%|██▌       | 168/667 [1:50:50<2:42:43, 19.57s/it]"
     ]
    },
    {
     "name": "stdout",
     "output_type": "stream",
     "text": [
      "For film with ID tt1440266 44 reviews were scraped\n"
     ]
    },
    {
     "name": "stderr",
     "output_type": "stream",
     "text": [
      "Scraping Reviews:  25%|██▌       | 169/667 [1:50:58<2:12:21, 15.95s/it]"
     ]
    },
    {
     "name": "stdout",
     "output_type": "stream",
     "text": [
      "For film with ID tt1860355 36 reviews were scraped\n"
     ]
    },
    {
     "name": "stderr",
     "output_type": "stream",
     "text": [
      "Scraping Reviews:  25%|██▌       | 170/667 [1:51:05<1:50:45, 13.37s/it]"
     ]
    },
    {
     "name": "stdout",
     "output_type": "stream",
     "text": [
      "For film with ID tt1821593 44 reviews were scraped\n"
     ]
    },
    {
     "name": "stderr",
     "output_type": "stream",
     "text": [
      "Scraping Reviews:  26%|██▌       | 171/667 [1:51:13<1:36:43, 11.70s/it]"
     ]
    },
    {
     "name": "stdout",
     "output_type": "stream",
     "text": [
      "For film with ID tt1445520 33 reviews were scraped\n"
     ]
    },
    {
     "name": "stderr",
     "output_type": "stream",
     "text": [
      "Scraping Reviews:  26%|██▌       | 172/667 [1:51:22<1:31:15, 11.06s/it]"
     ]
    },
    {
     "name": "stdout",
     "output_type": "stream",
     "text": [
      "For film with ID tt1417075 50 reviews were scraped\n"
     ]
    },
    {
     "name": "stderr",
     "output_type": "stream",
     "text": [
      "Scraping Reviews:  26%|██▌       | 173/667 [1:51:31<1:25:42, 10.41s/it]"
     ]
    },
    {
     "name": "stdout",
     "output_type": "stream",
     "text": [
      "For film with ID tt2011971 60 reviews were scraped\n"
     ]
    },
    {
     "name": "stderr",
     "output_type": "stream",
     "text": [
      "Scraping Reviews:  26%|██▌       | 174/667 [1:52:05<2:23:44, 17.49s/it]"
     ]
    },
    {
     "name": "stdout",
     "output_type": "stream",
     "text": [
      "For film with ID tt1832382 409 reviews were scraped\n"
     ]
    },
    {
     "name": "stderr",
     "output_type": "stream",
     "text": [
      "Scraping Reviews:  26%|██▌       | 175/667 [1:52:36<2:55:23, 21.39s/it]"
     ]
    },
    {
     "name": "stdout",
     "output_type": "stream",
     "text": [
      "For film with ID tt0477302 397 reviews were scraped\n"
     ]
    },
    {
     "name": "stderr",
     "output_type": "stream",
     "text": [
      "Scraping Reviews:  26%|██▋       | 176/667 [1:53:28<4:09:51, 30.53s/it]"
     ]
    },
    {
     "name": "stdout",
     "output_type": "stream",
     "text": [
      "For film with ID tt1568911 550 reviews were scraped\n"
     ]
    },
    {
     "name": "stderr",
     "output_type": "stream",
     "text": [
      "Scraping Reviews:  27%|██▋       | 177/667 [1:53:55<4:00:17, 29.42s/it]"
     ]
    },
    {
     "name": "stdout",
     "output_type": "stream",
     "text": [
      "For film with ID tt1124035 276 reviews were scraped\n"
     ]
    },
    {
     "name": "stderr",
     "output_type": "stream",
     "text": [
      "Scraping Reviews:  27%|██▋       | 178/667 [1:54:41<4:42:28, 34.66s/it]"
     ]
    },
    {
     "name": "stdout",
     "output_type": "stream",
     "text": [
      "For film with ID tt1478338 575 reviews were scraped\n"
     ]
    },
    {
     "name": "stderr",
     "output_type": "stream",
     "text": [
      "Scraping Reviews:  27%|██▋       | 179/667 [1:55:11<4:29:20, 33.12s/it]"
     ]
    },
    {
     "name": "stdout",
     "output_type": "stream",
     "text": [
      "For film with ID tt1615147 349 reviews were scraped\n"
     ]
    },
    {
     "name": "stderr",
     "output_type": "stream",
     "text": [
      "Scraping Reviews:  27%|██▋       | 180/667 [1:56:27<6:12:58, 45.95s/it]"
     ]
    },
    {
     "name": "stdout",
     "output_type": "stream",
     "text": [
      "For film with ID tt1045658 925 reviews were scraped\n"
     ]
    },
    {
     "name": "stderr",
     "output_type": "stream",
     "text": [
      "Scraping Reviews:  27%|██▋       | 181/667 [1:57:36<7:08:49, 52.94s/it]"
     ]
    },
    {
     "name": "stdout",
     "output_type": "stream",
     "text": [
      "For film with ID tt0443272 885 reviews were scraped\n"
     ]
    },
    {
     "name": "stderr",
     "output_type": "stream",
     "text": [
      "Scraping Reviews:  27%|██▋       | 182/667 [1:58:59<8:19:48, 61.83s/it]"
     ]
    },
    {
     "name": "stdout",
     "output_type": "stream",
     "text": [
      "For film with ID tt1707386 1022 reviews were scraped\n"
     ]
    },
    {
     "name": "stderr",
     "output_type": "stream",
     "text": [
      "Scraping Reviews:  27%|██▋       | 183/667 [1:59:45<7:41:43, 57.24s/it]"
     ]
    },
    {
     "name": "stdout",
     "output_type": "stream",
     "text": [
      "For film with ID tt1560747 567 reviews were scraped\n"
     ]
    },
    {
     "name": "stderr",
     "output_type": "stream",
     "text": [
      "Scraping Reviews:  28%|██▊       | 184/667 [2:00:37<7:26:29, 55.46s/it]"
     ]
    },
    {
     "name": "stdout",
     "output_type": "stream",
     "text": [
      "For film with ID tt1907668 621 reviews were scraped\n"
     ]
    },
    {
     "name": "stderr",
     "output_type": "stream",
     "text": [
      "Scraping Reviews:  28%|██▊       | 185/667 [2:01:38<7:38:54, 57.12s/it]"
     ]
    },
    {
     "name": "stdout",
     "output_type": "stream",
     "text": [
      "For film with ID tt1790885 751 reviews were scraped\n"
     ]
    },
    {
     "name": "stderr",
     "output_type": "stream",
     "text": [
      "Scraping Reviews:  28%|██▊       | 186/667 [2:01:59<6:11:54, 46.39s/it]"
     ]
    },
    {
     "name": "stdout",
     "output_type": "stream",
     "text": [
      "For film with ID tt1602620 230 reviews were scraped\n"
     ]
    },
    {
     "name": "stderr",
     "output_type": "stream",
     "text": [
      "Scraping Reviews:  28%|██▊       | 187/667 [2:02:26<5:25:33, 40.70s/it]"
     ]
    },
    {
     "name": "stdout",
     "output_type": "stream",
     "text": [
      "For film with ID tt2125435 289 reviews were scraped\n"
     ]
    },
    {
     "name": "stderr",
     "output_type": "stream",
     "text": [
      "Scraping Reviews:  28%|██▊       | 188/667 [2:03:08<5:28:26, 41.14s/it]"
     ]
    },
    {
     "name": "stdout",
     "output_type": "stream",
     "text": [
      "For film with ID tt1649419 512 reviews were scraped\n"
     ]
    },
    {
     "name": "stderr",
     "output_type": "stream",
     "text": [
      "Scraping Reviews:  28%|██▊       | 189/667 [2:03:55<5:39:57, 42.67s/it]"
     ]
    },
    {
     "name": "stdout",
     "output_type": "stream",
     "text": [
      "For film with ID tt1217209 557 reviews were scraped\n"
     ]
    },
    {
     "name": "stderr",
     "output_type": "stream",
     "text": [
      "Scraping Reviews:  28%|██▊       | 190/667 [2:04:14<4:44:21, 35.77s/it]"
     ]
    },
    {
     "name": "stdout",
     "output_type": "stream",
     "text": [
      "For film with ID tt1142977 215 reviews were scraped\n"
     ]
    },
    {
     "name": "stderr",
     "output_type": "stream",
     "text": [
      "Scraping Reviews:  29%|██▊       | 191/667 [2:04:35<4:06:43, 31.10s/it]"
     ]
    },
    {
     "name": "stdout",
     "output_type": "stream",
     "text": [
      "For film with ID tt1623288 220 reviews were scraped\n"
     ]
    },
    {
     "name": "stderr",
     "output_type": "stream",
     "text": [
      "Scraping Reviews:  29%|██▉       | 192/667 [2:04:48<3:23:10, 25.67s/it]"
     ]
    },
    {
     "name": "stdout",
     "output_type": "stream",
     "text": [
      "For film with ID tt1430626 113 reviews were scraped\n"
     ]
    },
    {
     "name": "stderr",
     "output_type": "stream",
     "text": [
      "Scraping Reviews:  29%|██▉       | 193/667 [2:05:25<3:50:13, 29.14s/it]"
     ]
    },
    {
     "name": "stdout",
     "output_type": "stream",
     "text": [
      "For film with ID tt1772341 475 reviews were scraped\n"
     ]
    },
    {
     "name": "stderr",
     "output_type": "stream",
     "text": [
      "Scraping Reviews:  29%|██▉       | 194/667 [2:06:42<5:44:30, 43.70s/it]"
     ]
    },
    {
     "name": "stdout",
     "output_type": "stream",
     "text": [
      "For film with ID tt0454876 979 reviews were scraped\n"
     ]
    },
    {
     "name": "stderr",
     "output_type": "stream",
     "text": [
      "Scraping Reviews:  29%|██▉       | 195/667 [2:06:51<4:21:13, 33.21s/it]"
     ]
    },
    {
     "name": "stdout",
     "output_type": "stream",
     "text": [
      "For film with ID tt2125423 34 reviews were scraped\n"
     ]
    },
    {
     "name": "stderr",
     "output_type": "stream",
     "text": [
      "Scraping Reviews:  29%|██▉       | 196/667 [2:06:59<3:20:51, 25.59s/it]"
     ]
    },
    {
     "name": "stdout",
     "output_type": "stream",
     "text": [
      "For film with ID tt2309788 32 reviews were scraped\n"
     ]
    },
    {
     "name": "stderr",
     "output_type": "stream",
     "text": [
      "Scraping Reviews:  30%|██▉       | 197/667 [2:07:04<2:32:13, 19.43s/it]"
     ]
    },
    {
     "name": "stdout",
     "output_type": "stream",
     "text": [
      "For film with ID tt2124803 19 reviews were scraped\n"
     ]
    },
    {
     "name": "stderr",
     "output_type": "stream",
     "text": [
      "Scraping Reviews:  30%|██▉       | 198/667 [2:07:12<2:05:34, 16.07s/it]"
     ]
    },
    {
     "name": "stdout",
     "output_type": "stream",
     "text": [
      "For film with ID tt2120152 25 reviews were scraped\n"
     ]
    },
    {
     "name": "stderr",
     "output_type": "stream",
     "text": [
      "Scraping Reviews:  30%|██▉       | 199/667 [2:07:32<2:13:39, 17.14s/it]"
     ]
    },
    {
     "name": "stdout",
     "output_type": "stream",
     "text": [
      "For film with ID tt2125608 208 reviews were scraped\n"
     ]
    },
    {
     "name": "stderr",
     "output_type": "stream",
     "text": [
      "Scraping Reviews:  30%|██▉       | 200/667 [2:07:43<1:58:22, 15.21s/it]"
     ]
    },
    {
     "name": "stdout",
     "output_type": "stream",
     "text": [
      "For film with ID tt1613750 94 reviews were scraped\n"
     ]
    },
    {
     "name": "stderr",
     "output_type": "stream",
     "text": [
      "Scraping Reviews:  30%|███       | 201/667 [2:07:52<1:44:02, 13.40s/it]"
     ]
    },
    {
     "name": "stdout",
     "output_type": "stream",
     "text": [
      "For film with ID tt2059255 49 reviews were scraped\n"
     ]
    },
    {
     "name": "stderr",
     "output_type": "stream",
     "text": [
      "Scraping Reviews:  30%|███       | 202/667 [2:08:04<1:41:34, 13.11s/it]"
     ]
    },
    {
     "name": "stdout",
     "output_type": "stream",
     "text": [
      "For film with ID tt1276419 91 reviews were scraped\n"
     ]
    },
    {
     "name": "stderr",
     "output_type": "stream",
     "text": [
      "Scraping Reviews:  30%|███       | 203/667 [2:08:12<1:27:54, 11.37s/it]"
     ]
    },
    {
     "name": "stdout",
     "output_type": "stream",
     "text": [
      "For film with ID tt1820488 28 reviews were scraped\n"
     ]
    },
    {
     "name": "stderr",
     "output_type": "stream",
     "text": [
      "Scraping Reviews:  31%|███       | 204/667 [2:09:19<3:37:38, 28.20s/it]"
     ]
    },
    {
     "name": "stdout",
     "output_type": "stream",
     "text": [
      "For film with ID tt1024648 896 reviews were scraped\n"
     ]
    },
    {
     "name": "stderr",
     "output_type": "stream",
     "text": [
      "Scraping Reviews:  31%|███       | 205/667 [2:11:50<8:21:12, 65.09s/it]"
     ]
    },
    {
     "name": "stdout",
     "output_type": "stream",
     "text": [
      "For film with ID tt1853728 1793 reviews were scraped\n"
     ]
    },
    {
     "name": "stderr",
     "output_type": "stream",
     "text": [
      "Scraping Reviews:  31%|███       | 206/667 [2:12:31<7:24:46, 57.89s/it]"
     ]
    },
    {
     "name": "stdout",
     "output_type": "stream",
     "text": [
      "For film with ID tt1748122 503 reviews were scraped\n"
     ]
    },
    {
     "name": "stderr",
     "output_type": "stream",
     "text": [
      "Scraping Reviews:  31%|███       | 207/667 [2:13:41<7:50:59, 61.43s/it]"
     ]
    },
    {
     "name": "stdout",
     "output_type": "stream",
     "text": [
      "For film with ID tt1800241 829 reviews were scraped\n"
     ]
    },
    {
     "name": "stderr",
     "output_type": "stream",
     "text": [
      "Scraping Reviews:  31%|███       | 208/667 [2:14:10<6:35:43, 51.73s/it]"
     ]
    },
    {
     "name": "stdout",
     "output_type": "stream",
     "text": [
      "For film with ID tt1821549 319 reviews were scraped\n"
     ]
    },
    {
     "name": "stderr",
     "output_type": "stream",
     "text": [
      "Scraping Reviews:  31%|███▏      | 209/667 [2:16:38<10:14:21, 80.48s/it]"
     ]
    },
    {
     "name": "stdout",
     "output_type": "stream",
     "text": [
      "For film with ID tt0993846 1708 reviews were scraped\n"
     ]
    },
    {
     "name": "stderr",
     "output_type": "stream",
     "text": [
      "Scraping Reviews:  31%|███▏      | 210/667 [2:17:58<10:13:21, 80.53s/it]"
     ]
    },
    {
     "name": "stdout",
     "output_type": "stream",
     "text": [
      "For film with ID tt2024544 949 reviews were scraped\n"
     ]
    },
    {
     "name": "stderr",
     "output_type": "stream",
     "text": [
      "Scraping Reviews:  32%|███▏      | 211/667 [2:18:34<8:30:39, 67.19s/it] "
     ]
    },
    {
     "name": "stdout",
     "output_type": "stream",
     "text": [
      "For film with ID tt0790636 438 reviews were scraped\n"
     ]
    },
    {
     "name": "stderr",
     "output_type": "stream",
     "text": [
      "Scraping Reviews:  32%|███▏      | 212/667 [2:19:14<7:26:23, 58.86s/it]"
     ]
    },
    {
     "name": "stdout",
     "output_type": "stream",
     "text": [
      "For film with ID tt2334873 487 reviews were scraped\n"
     ]
    },
    {
     "name": "stderr",
     "output_type": "stream",
     "text": [
      "Scraping Reviews:  32%|███▏      | 213/667 [2:22:20<12:15:18, 97.18s/it]"
     ]
    },
    {
     "name": "stdout",
     "output_type": "stream",
     "text": [
      "For film with ID tt1454468 2175 reviews were scraped\n"
     ]
    },
    {
     "name": "stderr",
     "output_type": "stream",
     "text": [
      "Scraping Reviews:  32%|███▏      | 214/667 [2:22:46<9:32:26, 75.82s/it] "
     ]
    },
    {
     "name": "stdout",
     "output_type": "stream",
     "text": [
      "For film with ID tt2431286 260 reviews were scraped\n"
     ]
    },
    {
     "name": "stderr",
     "output_type": "stream",
     "text": [
      "Scraping Reviews:  32%|███▏      | 215/667 [2:23:15<7:44:48, 61.70s/it]"
     ]
    },
    {
     "name": "stdout",
     "output_type": "stream",
     "text": [
      "For film with ID tt1322269 327 reviews were scraped\n"
     ]
    },
    {
     "name": "stderr",
     "output_type": "stream",
     "text": [
      "Scraping Reviews:  32%|███▏      | 216/667 [2:23:38<6:16:30, 50.09s/it]"
     ]
    },
    {
     "name": "stdout",
     "output_type": "stream",
     "text": [
      "For film with ID tt0481499 280 reviews were scraped\n"
     ]
    },
    {
     "name": "stderr",
     "output_type": "stream",
     "text": [
      "Scraping Reviews:  33%|███▎      | 217/667 [2:24:06<5:26:08, 43.49s/it]"
     ]
    },
    {
     "name": "stdout",
     "output_type": "stream",
     "text": [
      "For film with ID tt1690953 343 reviews were scraped\n"
     ]
    },
    {
     "name": "stderr",
     "output_type": "stream",
     "text": [
      "Scraping Reviews:  33%|███▎      | 218/667 [2:24:17<4:11:19, 33.58s/it]"
     ]
    },
    {
     "name": "stdout",
     "output_type": "stream",
     "text": [
      "For film with ID tt1816518 59 reviews were scraped\n"
     ]
    },
    {
     "name": "stderr",
     "output_type": "stream",
     "text": [
      "Scraping Reviews:  33%|███▎      | 219/667 [2:25:53<6:32:14, 52.53s/it]"
     ]
    },
    {
     "name": "stdout",
     "output_type": "stream",
     "text": [
      "For film with ID tt2294629 1213 reviews were scraped\n"
     ]
    },
    {
     "name": "stderr",
     "output_type": "stream",
     "text": [
      "Scraping Reviews:  33%|███▎      | 220/667 [2:26:10<5:12:04, 41.89s/it]"
     ]
    },
    {
     "name": "stdout",
     "output_type": "stream",
     "text": [
      "For film with ID tt2013293 184 reviews were scraped\n"
     ]
    },
    {
     "name": "stderr",
     "output_type": "stream",
     "text": [
      "Scraping Reviews:  33%|███▎      | 221/667 [2:26:25<4:09:28, 33.56s/it]"
     ]
    },
    {
     "name": "stdout",
     "output_type": "stream",
     "text": [
      "For film with ID tt2375605 140 reviews were scraped\n"
     ]
    },
    {
     "name": "stderr",
     "output_type": "stream",
     "text": [
      "Scraping Reviews:  33%|███▎      | 222/667 [2:26:31<3:09:22, 25.53s/it]"
     ]
    },
    {
     "name": "stdout",
     "output_type": "stream",
     "text": [
      "For film with ID tt2355540 23 reviews were scraped\n"
     ]
    },
    {
     "name": "stderr",
     "output_type": "stream",
     "text": [
      "Scraping Reviews:  33%|███▎      | 223/667 [2:26:41<2:33:42, 20.77s/it]"
     ]
    },
    {
     "name": "stdout",
     "output_type": "stream",
     "text": [
      "For film with ID tt2532528 49 reviews were scraped\n"
     ]
    },
    {
     "name": "stderr",
     "output_type": "stream",
     "text": [
      "Scraping Reviews:  34%|███▎      | 224/667 [2:26:49<2:05:42, 17.03s/it]"
     ]
    },
    {
     "name": "stdout",
     "output_type": "stream",
     "text": [
      "For film with ID tt2486682 42 reviews were scraped\n"
     ]
    },
    {
     "name": "stderr",
     "output_type": "stream",
     "text": [
      "Scraping Reviews:  34%|███▎      | 225/667 [2:27:01<1:54:02, 15.48s/it]"
     ]
    },
    {
     "name": "stdout",
     "output_type": "stream",
     "text": [
      "For film with ID tt2396566 85 reviews were scraped\n"
     ]
    },
    {
     "name": "stderr",
     "output_type": "stream",
     "text": [
      "Scraping Reviews:  34%|███▍      | 226/667 [2:27:13<1:46:10, 14.44s/it]"
     ]
    },
    {
     "name": "stdout",
     "output_type": "stream",
     "text": [
      "For film with ID tt2024519 74 reviews were scraped\n"
     ]
    },
    {
     "name": "stderr",
     "output_type": "stream",
     "text": [
      "Scraping Reviews:  34%|███▍      | 227/667 [2:27:33<1:58:16, 16.13s/it]"
     ]
    },
    {
     "name": "stdout",
     "output_type": "stream",
     "text": [
      "For film with ID tt2358891 201 reviews were scraped\n"
     ]
    },
    {
     "name": "stderr",
     "output_type": "stream",
     "text": [
      "Scraping Reviews:  34%|███▍      | 228/667 [2:28:12<2:48:39, 23.05s/it]"
     ]
    },
    {
     "name": "stdout",
     "output_type": "stream",
     "text": [
      "For film with ID tt2106476 537 reviews were scraped\n"
     ]
    },
    {
     "name": "stderr",
     "output_type": "stream",
     "text": [
      "Scraping Reviews:  34%|███▍      | 229/667 [2:28:18<2:09:13, 17.70s/it]"
     ]
    },
    {
     "name": "stdout",
     "output_type": "stream",
     "text": [
      "For film with ID tt2852470 15 reviews were scraped\n"
     ]
    },
    {
     "name": "stderr",
     "output_type": "stream",
     "text": [
      "Scraping Reviews:  34%|███▍      | 230/667 [2:28:28<1:53:22, 15.57s/it]"
     ]
    },
    {
     "name": "stdout",
     "output_type": "stream",
     "text": [
      "For film with ID tt2852406 51 reviews were scraped\n"
     ]
    },
    {
     "name": "stderr",
     "output_type": "stream",
     "text": [
      "Scraping Reviews:  35%|███▍      | 231/667 [2:29:22<3:17:03, 27.12s/it]"
     ]
    },
    {
     "name": "stdout",
     "output_type": "stream",
     "text": [
      "For film with ID tt1535109 686 reviews were scraped\n"
     ]
    },
    {
     "name": "stderr",
     "output_type": "stream",
     "text": [
      "Scraping Reviews:  35%|███▍      | 232/667 [2:31:08<6:08:04, 50.77s/it]"
     ]
    },
    {
     "name": "stdout",
     "output_type": "stream",
     "text": [
      "For film with ID tt1798709 1268 reviews were scraped\n"
     ]
    },
    {
     "name": "stderr",
     "output_type": "stream",
     "text": [
      "Scraping Reviews:  35%|███▍      | 233/667 [2:31:36<5:16:25, 43.74s/it]"
     ]
    },
    {
     "name": "stdout",
     "output_type": "stream",
     "text": [
      "For film with ID tt2209418 355 reviews were scraped\n"
     ]
    },
    {
     "name": "stderr",
     "output_type": "stream",
     "text": [
      "Scraping Reviews:  35%|███▌      | 234/667 [2:32:14<5:04:22, 42.18s/it]"
     ]
    },
    {
     "name": "stdout",
     "output_type": "stream",
     "text": [
      "For film with ID tt1100089 349 reviews were scraped\n"
     ]
    },
    {
     "name": "stderr",
     "output_type": "stream",
     "text": [
      "Scraping Reviews:  35%|███▌      | 235/667 [2:33:38<6:32:34, 54.52s/it]"
     ]
    },
    {
     "name": "stdout",
     "output_type": "stream",
     "text": [
      "For film with ID tt2179136 1071 reviews were scraped\n"
     ]
    },
    {
     "name": "stderr",
     "output_type": "stream",
     "text": [
      "Scraping Reviews:  35%|███▌      | 236/667 [2:34:56<7:22:53, 61.65s/it]"
     ]
    },
    {
     "name": "stdout",
     "output_type": "stream",
     "text": [
      "For film with ID tt2084970 950 reviews were scraped\n"
     ]
    },
    {
     "name": "stderr",
     "output_type": "stream",
     "text": [
      "Scraping Reviews:  36%|███▌      | 237/667 [2:36:53<9:20:44, 78.24s/it]"
     ]
    },
    {
     "name": "stdout",
     "output_type": "stream",
     "text": [
      "For film with ID tt2562232 1452 reviews were scraped\n"
     ]
    },
    {
     "name": "stderr",
     "output_type": "stream",
     "text": [
      "Scraping Reviews:  36%|███▌      | 238/667 [2:37:38<8:09:18, 68.43s/it]"
     ]
    },
    {
     "name": "stdout",
     "output_type": "stream",
     "text": [
      "For film with ID tt2980516 569 reviews were scraped\n"
     ]
    },
    {
     "name": "stderr",
     "output_type": "stream",
     "text": [
      "Scraping Reviews:  36%|███▌      | 239/667 [2:37:53<6:13:29, 52.36s/it]"
     ]
    },
    {
     "name": "stdout",
     "output_type": "stream",
     "text": [
      "For film with ID tt2737050 131 reviews were scraped\n"
     ]
    },
    {
     "name": "stderr",
     "output_type": "stream",
     "text": [
      "Scraping Reviews:  36%|███▌      | 240/667 [2:38:18<5:12:47, 43.95s/it]"
     ]
    },
    {
     "name": "stdout",
     "output_type": "stream",
     "text": [
      "For film with ID tt3316960 278 reviews were scraped\n"
     ]
    },
    {
     "name": "stderr",
     "output_type": "stream",
     "text": [
      "Scraping Reviews:  36%|███▌      | 241/667 [2:40:33<8:26:52, 71.39s/it]"
     ]
    },
    {
     "name": "stdout",
     "output_type": "stream",
     "text": [
      "For film with ID tt2267998 1708 reviews were scraped\n"
     ]
    },
    {
     "name": "stderr",
     "output_type": "stream",
     "text": [
      "Scraping Reviews:  36%|███▋      | 242/667 [2:41:03<6:58:56, 59.14s/it]"
     ]
    },
    {
     "name": "stdout",
     "output_type": "stream",
     "text": [
      "For film with ID tt2305051 336 reviews were scraped\n"
     ]
    },
    {
     "name": "stderr",
     "output_type": "stream",
     "text": [
      "Scraping Reviews:  36%|███▋      | 243/667 [2:41:51<6:34:17, 55.80s/it]"
     ]
    },
    {
     "name": "stdout",
     "output_type": "stream",
     "text": [
      "For film with ID tt2245084 609 reviews were scraped\n"
     ]
    },
    {
     "name": "stderr",
     "output_type": "stream",
     "text": [
      "Scraping Reviews:  37%|███▋      | 244/667 [2:42:09<5:11:44, 44.22s/it]"
     ]
    },
    {
     "name": "stdout",
     "output_type": "stream",
     "text": [
      "For film with ID tt0787474 152 reviews were scraped\n"
     ]
    },
    {
     "name": "stderr",
     "output_type": "stream",
     "text": [
      "Scraping Reviews:  37%|███▋      | 245/667 [2:42:43<4:50:40, 41.33s/it]"
     ]
    },
    {
     "name": "stdout",
     "output_type": "stream",
     "text": [
      "For film with ID tt1646971 429 reviews were scraped\n"
     ]
    },
    {
     "name": "stderr",
     "output_type": "stream",
     "text": [
      "Scraping Reviews:  37%|███▋      | 246/667 [2:42:59<3:55:10, 33.52s/it]"
     ]
    },
    {
     "name": "stdout",
     "output_type": "stream",
     "text": [
      "For film with ID tt1865505 156 reviews were scraped\n"
     ]
    },
    {
     "name": "stderr",
     "output_type": "stream",
     "text": [
      "Scraping Reviews:  37%|███▋      | 247/667 [2:43:15<3:17:46, 28.25s/it]"
     ]
    },
    {
     "name": "stdout",
     "output_type": "stream",
     "text": [
      "For film with ID tt2576852 161 reviews were scraped\n"
     ]
    },
    {
     "name": "stderr",
     "output_type": "stream",
     "text": [
      "Scraping Reviews:  37%|███▋      | 248/667 [2:44:33<5:01:51, 43.22s/it]"
     ]
    },
    {
     "name": "stdout",
     "output_type": "stream",
     "text": [
      "For film with ID tt1065073 1011 reviews were scraped\n"
     ]
    },
    {
     "name": "stderr",
     "output_type": "stream",
     "text": [
      "Scraping Reviews:  37%|███▋      | 249/667 [2:45:54<6:21:12, 54.72s/it]"
     ]
    },
    {
     "name": "stdout",
     "output_type": "stream",
     "text": [
      "For film with ID tt2278388 1042 reviews were scraped\n"
     ]
    },
    {
     "name": "stderr",
     "output_type": "stream",
     "text": [
      "Scraping Reviews:  37%|███▋      | 250/667 [2:46:10<4:58:21, 42.93s/it]"
     ]
    },
    {
     "name": "stdout",
     "output_type": "stream",
     "text": [
      "For film with ID tt4044364 118 reviews were scraped\n"
     ]
    },
    {
     "name": "stderr",
     "output_type": "stream",
     "text": [
      "Scraping Reviews:  38%|███▊      | 251/667 [2:46:20<3:50:44, 33.28s/it]"
     ]
    },
    {
     "name": "stdout",
     "output_type": "stream",
     "text": [
      "For film with ID tt2714900 55 reviews were scraped\n"
     ]
    },
    {
     "name": "stderr",
     "output_type": "stream",
     "text": [
      "Scraping Reviews:  38%|███▊      | 252/667 [2:46:29<2:58:33, 25.82s/it]"
     ]
    },
    {
     "name": "stdout",
     "output_type": "stream",
     "text": [
      "For film with ID tt3279124 25 reviews were scraped\n"
     ]
    },
    {
     "name": "stderr",
     "output_type": "stream",
     "text": [
      "Scraping Reviews:  38%|███▊      | 253/667 [2:46:40<2:27:28, 21.37s/it]"
     ]
    },
    {
     "name": "stdout",
     "output_type": "stream",
     "text": [
      "For film with ID tt3674140 49 reviews were scraped\n"
     ]
    },
    {
     "name": "stderr",
     "output_type": "stream",
     "text": [
      "Scraping Reviews:  38%|███▊      | 254/667 [2:46:49<2:02:11, 17.75s/it]"
     ]
    },
    {
     "name": "stdout",
     "output_type": "stream",
     "text": [
      "For film with ID tt3455224 27 reviews were scraped\n"
     ]
    },
    {
     "name": "stderr",
     "output_type": "stream",
     "text": [
      "Scraping Reviews:  38%|███▊      | 255/667 [2:47:06<2:00:44, 17.58s/it]"
     ]
    },
    {
     "name": "stdout",
     "output_type": "stream",
     "text": [
      "For film with ID tt2718492 158 reviews were scraped\n"
     ]
    },
    {
     "name": "stderr",
     "output_type": "stream",
     "text": [
      "Scraping Reviews:  38%|███▊      | 256/667 [2:47:22<1:56:37, 17.03s/it]"
     ]
    },
    {
     "name": "stdout",
     "output_type": "stream",
     "text": [
      "For film with ID tt2802154 138 reviews were scraped\n"
     ]
    },
    {
     "name": "stderr",
     "output_type": "stream",
     "text": [
      "Scraping Reviews:  39%|███▊      | 257/667 [2:47:35<1:47:42, 15.76s/it]"
     ]
    },
    {
     "name": "stdout",
     "output_type": "stream",
     "text": [
      "For film with ID tt2991224 108 reviews were scraped\n"
     ]
    },
    {
     "name": "stderr",
     "output_type": "stream",
     "text": [
      "Scraping Reviews:  39%|███▊      | 258/667 [2:47:46<1:37:31, 14.31s/it]"
     ]
    },
    {
     "name": "stdout",
     "output_type": "stream",
     "text": [
      "For film with ID tt3409392 70 reviews were scraped\n"
     ]
    },
    {
     "name": "stderr",
     "output_type": "stream",
     "text": [
      "Scraping Reviews:  39%|███▉      | 259/667 [2:48:11<1:59:10, 17.52s/it]"
     ]
    },
    {
     "name": "stdout",
     "output_type": "stream",
     "text": [
      "For film with ID tt3011894 277 reviews were scraped\n"
     ]
    },
    {
     "name": "stderr",
     "output_type": "stream",
     "text": [
      "Scraping Reviews:  39%|███▉      | 260/667 [2:48:39<2:20:08, 20.66s/it]"
     ]
    },
    {
     "name": "stdout",
     "output_type": "stream",
     "text": [
      "For film with ID tt1020072 302 reviews were scraped\n"
     ]
    },
    {
     "name": "stderr",
     "output_type": "stream",
     "text": [
      "Scraping Reviews:  39%|███▉      | 261/667 [2:50:49<6:02:16, 53.54s/it]"
     ]
    },
    {
     "name": "stdout",
     "output_type": "stream",
     "text": [
      "For film with ID tt2582802 1605 reviews were scraped\n"
     ]
    },
    {
     "name": "stderr",
     "output_type": "stream",
     "text": [
      "Scraping Reviews:  39%|███▉      | 262/667 [2:51:19<5:14:15, 46.56s/it]"
     ]
    },
    {
     "name": "stdout",
     "output_type": "stream",
     "text": [
      "For film with ID tt1791528 335 reviews were scraped\n"
     ]
    },
    {
     "name": "stderr",
     "output_type": "stream",
     "text": [
      "Scraping Reviews:  39%|███▉      | 263/667 [2:52:35<6:12:20, 55.30s/it]"
     ]
    },
    {
     "name": "stdout",
     "output_type": "stream",
     "text": [
      "For film with ID tt2872718 952 reviews were scraped\n"
     ]
    },
    {
     "name": "stderr",
     "output_type": "stream",
     "text": [
      "Scraping Reviews:  40%|███▉      | 264/667 [2:55:09<9:29:57, 84.86s/it]"
     ]
    },
    {
     "name": "stdout",
     "output_type": "stream",
     "text": [
      "For film with ID tt1663202 1798 reviews were scraped\n"
     ]
    },
    {
     "name": "stderr",
     "output_type": "stream",
     "text": [
      "Scraping Reviews:  40%|███▉      | 265/667 [2:55:32<7:23:57, 66.26s/it]"
     ]
    },
    {
     "name": "stdout",
     "output_type": "stream",
     "text": [
      "For film with ID tt3203606 223 reviews were scraped\n"
     ]
    },
    {
     "name": "stderr",
     "output_type": "stream",
     "text": [
      "Scraping Reviews:  40%|███▉      | 266/667 [2:57:30<9:07:39, 81.94s/it]"
     ]
    },
    {
     "name": "stdout",
     "output_type": "stream",
     "text": [
      "For film with ID tt3659388 1448 reviews were scraped\n"
     ]
    },
    {
     "name": "stderr",
     "output_type": "stream",
     "text": [
      "Scraping Reviews:  40%|████      | 267/667 [2:58:08<7:37:46, 68.67s/it]"
     ]
    },
    {
     "name": "stdout",
     "output_type": "stream",
     "text": [
      "For film with ID tt2080374 450 reviews were scraped\n"
     ]
    },
    {
     "name": "stderr",
     "output_type": "stream",
     "text": [
      "Scraping Reviews:  40%|████      | 268/667 [2:58:38<6:18:44, 56.95s/it]"
     ]
    },
    {
     "name": "stdout",
     "output_type": "stream",
     "text": [
      "For film with ID tt0810819 319 reviews were scraped\n"
     ]
    },
    {
     "name": "stderr",
     "output_type": "stream",
     "text": [
      "Scraping Reviews:  40%|████      | 269/667 [2:59:51<6:50:35, 61.90s/it]"
     ]
    },
    {
     "name": "stdout",
     "output_type": "stream",
     "text": [
      "For film with ID tt3170832 779 reviews were scraped\n"
     ]
    },
    {
     "name": "stderr",
     "output_type": "stream",
     "text": [
      "Scraping Reviews:  40%|████      | 270/667 [3:00:25<5:54:47, 53.62s/it]"
     ]
    },
    {
     "name": "stdout",
     "output_type": "stream",
     "text": [
      "For film with ID tt2402927 393 reviews were scraped\n"
     ]
    },
    {
     "name": "stderr",
     "output_type": "stream",
     "text": [
      "Scraping Reviews:  41%|████      | 271/667 [3:00:56<5:07:49, 46.64s/it]"
     ]
    },
    {
     "name": "stdout",
     "output_type": "stream",
     "text": [
      "For film with ID tt2446980 345 reviews were scraped\n"
     ]
    },
    {
     "name": "stderr",
     "output_type": "stream",
     "text": [
      "Scraping Reviews:  41%|████      | 272/667 [3:01:14<4:10:46, 38.09s/it]"
     ]
    },
    {
     "name": "stdout",
     "output_type": "stream",
     "text": [
      "For film with ID tt3544082 176 reviews were scraped\n"
     ]
    },
    {
     "name": "stderr",
     "output_type": "stream",
     "text": [
      "Scraping Reviews:  41%|████      | 273/667 [3:01:45<3:56:29, 36.01s/it]"
     ]
    },
    {
     "name": "stdout",
     "output_type": "stream",
     "text": [
      "For film with ID tt2381111 321 reviews were scraped\n"
     ]
    },
    {
     "name": "stderr",
     "output_type": "stream",
     "text": [
      "Scraping Reviews:  41%|████      | 274/667 [3:03:13<5:38:58, 51.75s/it]"
     ]
    },
    {
     "name": "stdout",
     "output_type": "stream",
     "text": [
      "For film with ID tt2096673 1142 reviews were scraped\n"
     ]
    },
    {
     "name": "stderr",
     "output_type": "stream",
     "text": [
      "Scraping Reviews:  41%|████      | 275/667 [3:03:35<4:38:13, 42.58s/it]"
     ]
    },
    {
     "name": "stdout",
     "output_type": "stream",
     "text": [
      "For film with ID tt2401878 228 reviews were scraped\n"
     ]
    },
    {
     "name": "stderr",
     "output_type": "stream",
     "text": [
      "Scraping Reviews:  41%|████▏     | 276/667 [3:03:43<3:29:48, 32.19s/it]"
     ]
    },
    {
     "name": "stdout",
     "output_type": "stream",
     "text": [
      "For film with ID tt3183630 42 reviews were scraped\n"
     ]
    },
    {
     "name": "stderr",
     "output_type": "stream",
     "text": [
      "Scraping Reviews:  42%|████▏     | 277/667 [3:03:56<2:53:36, 26.71s/it]"
     ]
    },
    {
     "name": "stdout",
     "output_type": "stream",
     "text": [
      "For film with ID tt2872750 128 reviews were scraped\n"
     ]
    },
    {
     "name": "stderr",
     "output_type": "stream",
     "text": [
      "Scraping Reviews:  42%|████▏     | 278/667 [3:04:11<2:29:24, 23.05s/it]"
     ]
    },
    {
     "name": "stdout",
     "output_type": "stream",
     "text": [
      "For film with ID tt3398268 135 reviews were scraped\n"
     ]
    },
    {
     "name": "stderr",
     "output_type": "stream",
     "text": [
      "Scraping Reviews:  42%|████▏     | 279/667 [3:04:59<3:17:46, 30.58s/it]"
     ]
    },
    {
     "name": "stdout",
     "output_type": "stream",
     "text": [
      "For film with ID tt1596363 641 reviews were scraped\n"
     ]
    },
    {
     "name": "stderr",
     "output_type": "stream",
     "text": [
      "Scraping Reviews:  42%|████▏     | 280/667 [3:08:25<8:55:47, 83.07s/it]"
     ]
    },
    {
     "name": "stdout",
     "output_type": "stream",
     "text": [
      "For film with ID tt1392190 2239 reviews were scraped\n"
     ]
    },
    {
     "name": "stderr",
     "output_type": "stream",
     "text": [
      "Scraping Reviews:  42%|████▏     | 281/667 [3:09:20<8:01:21, 74.82s/it]"
     ]
    },
    {
     "name": "stdout",
     "output_type": "stream",
     "text": [
      "For film with ID tt1895587 677 reviews were scraped\n"
     ]
    },
    {
     "name": "stderr",
     "output_type": "stream",
     "text": [
      "Scraping Reviews:  42%|████▏     | 282/667 [3:09:37<6:08:52, 57.49s/it]"
     ]
    },
    {
     "name": "stdout",
     "output_type": "stream",
     "text": [
      "For film with ID tt2870648 130 reviews were scraped\n"
     ]
    },
    {
     "name": "stderr",
     "output_type": "stream",
     "text": [
      "Scraping Reviews:  42%|████▏     | 283/667 [3:09:50<4:41:15, 43.95s/it]"
     ]
    },
    {
     "name": "stdout",
     "output_type": "stream",
     "text": [
      "For film with ID tt4126304 50 reviews were scraped\n"
     ]
    },
    {
     "name": "stderr",
     "output_type": "stream",
     "text": [
      "Scraping Reviews:  43%|████▎     | 284/667 [3:10:00<3:36:18, 33.89s/it]"
     ]
    },
    {
     "name": "stdout",
     "output_type": "stream",
     "text": [
      "For film with ID tt3521134 32 reviews were scraped\n"
     ]
    },
    {
     "name": "stderr",
     "output_type": "stream",
     "text": [
      "Scraping Reviews:  43%|████▎     | 285/667 [3:10:10<2:49:45, 26.66s/it]"
     ]
    },
    {
     "name": "stdout",
     "output_type": "stream",
     "text": [
      "For film with ID tt4284010 26 reviews were scraped\n"
     ]
    },
    {
     "name": "stderr",
     "output_type": "stream",
     "text": [
      "Scraping Reviews:  43%|████▎     | 286/667 [3:10:22<2:21:29, 22.28s/it]"
     ]
    },
    {
     "name": "stdout",
     "output_type": "stream",
     "text": [
      "For film with ID tt4908644 72 reviews were scraped\n"
     ]
    },
    {
     "name": "stderr",
     "output_type": "stream",
     "text": [
      "Scraping Reviews:  43%|████▎     | 287/667 [3:10:39<2:11:45, 20.80s/it]"
     ]
    },
    {
     "name": "stdout",
     "output_type": "stream",
     "text": [
      "For film with ID tt3808342 148 reviews were scraped\n"
     ]
    },
    {
     "name": "stderr",
     "output_type": "stream",
     "text": [
      "Scraping Reviews:  43%|████▎     | 288/667 [3:10:52<1:56:33, 18.45s/it]"
     ]
    },
    {
     "name": "stdout",
     "output_type": "stream",
     "text": [
      "For film with ID tt4285496 83 reviews were scraped\n"
     ]
    },
    {
     "name": "stderr",
     "output_type": "stream",
     "text": [
      "Scraping Reviews:  43%|████▎     | 289/667 [3:11:05<1:45:27, 16.74s/it]"
     ]
    },
    {
     "name": "stdout",
     "output_type": "stream",
     "text": [
      "For film with ID tt3966404 85 reviews were scraped\n"
     ]
    },
    {
     "name": "stderr",
     "output_type": "stream",
     "text": [
      "Scraping Reviews:  43%|████▎     | 290/667 [3:11:15<1:33:23, 14.86s/it]"
     ]
    },
    {
     "name": "stdout",
     "output_type": "stream",
     "text": [
      "For film with ID tt3170902 44 reviews were scraped\n"
     ]
    },
    {
     "name": "stderr",
     "output_type": "stream",
     "text": [
      "Scraping Reviews:  44%|████▎     | 291/667 [3:11:25<1:22:14, 13.12s/it]"
     ]
    },
    {
     "name": "stdout",
     "output_type": "stream",
     "text": [
      "For film with ID tt3830162 34 reviews were scraped\n"
     ]
    },
    {
     "name": "stderr",
     "output_type": "stream",
     "text": [
      "Scraping Reviews:  44%|████▍     | 292/667 [3:12:09<2:21:40, 22.67s/it]"
     ]
    },
    {
     "name": "stdout",
     "output_type": "stream",
     "text": [
      "For film with ID tt3682448 555 reviews were scraped\n"
     ]
    },
    {
     "name": "stderr",
     "output_type": "stream",
     "text": [
      "Scraping Reviews:  44%|████▍     | 293/667 [3:13:37<4:22:30, 42.11s/it]"
     ]
    },
    {
     "name": "stdout",
     "output_type": "stream",
     "text": [
      "For film with ID tt0470752 1053 reviews were scraped\n"
     ]
    },
    {
     "name": "stderr",
     "output_type": "stream",
     "text": [
      "Scraping Reviews:  44%|████▍     | 294/667 [3:14:13<4:10:17, 40.26s/it]"
     ]
    },
    {
     "name": "stdout",
     "output_type": "stream",
     "text": [
      "For film with ID tt1398426 410 reviews were scraped\n"
     ]
    },
    {
     "name": "stderr",
     "output_type": "stream",
     "text": [
      "Scraping Reviews:  44%|████▍     | 295/667 [3:15:26<5:09:49, 49.97s/it]"
     ]
    },
    {
     "name": "stdout",
     "output_type": "stream",
     "text": [
      "For film with ID tt4034228 912 reviews were scraped\n"
     ]
    },
    {
     "name": "stderr",
     "output_type": "stream",
     "text": [
      "Scraping Reviews:  44%|████▍     | 296/667 [3:16:54<6:20:02, 61.46s/it]"
     ]
    },
    {
     "name": "stdout",
     "output_type": "stream",
     "text": [
      "For film with ID tt2119532 1113 reviews were scraped\n"
     ]
    },
    {
     "name": "stderr",
     "output_type": "stream",
     "text": [
      "Scraping Reviews:  45%|████▍     | 297/667 [3:19:57<10:03:22, 97.85s/it]"
     ]
    },
    {
     "name": "stdout",
     "output_type": "stream",
     "text": [
      "For film with ID tt3783958 2112 reviews were scraped\n"
     ]
    },
    {
     "name": "stderr",
     "output_type": "stream",
     "text": [
      "Scraping Reviews:  45%|████▍     | 298/667 [3:20:45<8:29:59, 82.93s/it] "
     ]
    },
    {
     "name": "stdout",
     "output_type": "stream",
     "text": [
      "For film with ID tt3553976 572 reviews were scraped\n"
     ]
    },
    {
     "name": "stderr",
     "output_type": "stream",
     "text": [
      "Scraping Reviews:  45%|████▍     | 299/667 [3:21:20<7:00:31, 68.56s/it]"
     ]
    },
    {
     "name": "stdout",
     "output_type": "stream",
     "text": [
      "For film with ID tt2671706 429 reviews were scraped\n"
     ]
    },
    {
     "name": "stderr",
     "output_type": "stream",
     "text": [
      "Scraping Reviews:  45%|████▍     | 300/667 [3:21:42<5:34:43, 54.72s/it]"
     ]
    },
    {
     "name": "stdout",
     "output_type": "stream",
     "text": [
      "For film with ID tt3716530 194 reviews were scraped\n"
     ]
    },
    {
     "name": "stderr",
     "output_type": "stream",
     "text": [
      "Scraping Reviews:  45%|████▌     | 301/667 [3:22:00<4:25:32, 43.53s/it]"
     ]
    },
    {
     "name": "stdout",
     "output_type": "stream",
     "text": [
      "For film with ID tt4669986 131 reviews were scraped\n"
     ]
    },
    {
     "name": "stderr",
     "output_type": "stream",
     "text": [
      "Scraping Reviews:  45%|████▌     | 302/667 [3:22:30<4:00:01, 39.46s/it]"
     ]
    },
    {
     "name": "stdout",
     "output_type": "stream",
     "text": [
      "For film with ID tt1619029 327 reviews were scraped\n"
     ]
    },
    {
     "name": "stderr",
     "output_type": "stream",
     "text": [
      "Scraping Reviews:  45%|████▌     | 303/667 [3:22:51<3:26:52, 34.10s/it]"
     ]
    },
    {
     "name": "stdout",
     "output_type": "stream",
     "text": [
      "For film with ID tt4136084 205 reviews were scraped\n"
     ]
    },
    {
     "name": "stderr",
     "output_type": "stream",
     "text": [
      "Scraping Reviews:  46%|████▌     | 304/667 [3:23:55<4:20:25, 43.05s/it]"
     ]
    },
    {
     "name": "stdout",
     "output_type": "stream",
     "text": [
      "For film with ID tt2948356 816 reviews were scraped\n"
     ]
    },
    {
     "name": "stderr",
     "output_type": "stream",
     "text": [
      "Scraping Reviews:  46%|████▌     | 305/667 [3:24:24<3:54:38, 38.89s/it]"
     ]
    },
    {
     "name": "stdout",
     "output_type": "stream",
     "text": [
      "For film with ID tt4302938 311 reviews were scraped\n"
     ]
    },
    {
     "name": "stderr",
     "output_type": "stream",
     "text": [
      "Scraping Reviews:  46%|████▌     | 306/667 [3:25:12<4:10:44, 41.67s/it]"
     ]
    },
    {
     "name": "stdout",
     "output_type": "stream",
     "text": [
      "For film with ID tt3521164 598 reviews were scraped\n"
     ]
    },
    {
     "name": "stderr",
     "output_type": "stream",
     "text": [
      "Scraping Reviews:  46%|████▌     | 307/667 [3:25:25<3:18:13, 33.04s/it]"
     ]
    },
    {
     "name": "stdout",
     "output_type": "stream",
     "text": [
      "For film with ID tt2321405 68 reviews were scraped\n"
     ]
    },
    {
     "name": "stderr",
     "output_type": "stream",
     "text": [
      "Scraping Reviews:  46%|████▌     | 308/667 [3:25:42<2:47:50, 28.05s/it]"
     ]
    },
    {
     "name": "stdout",
     "output_type": "stream",
     "text": [
      "For film with ID tt3666024 134 reviews were scraped\n"
     ]
    },
    {
     "name": "stderr",
     "output_type": "stream",
     "text": [
      "Scraping Reviews:  46%|████▋     | 309/667 [3:25:58<2:26:43, 24.59s/it]"
     ]
    },
    {
     "name": "stdout",
     "output_type": "stream",
     "text": [
      "For film with ID tt5186714 118 reviews were scraped\n"
     ]
    },
    {
     "name": "stderr",
     "output_type": "stream",
     "text": [
      "Scraping Reviews:  46%|████▋     | 310/667 [3:26:13<2:08:03, 21.52s/it]"
     ]
    },
    {
     "name": "stdout",
     "output_type": "stream",
     "text": [
      "For film with ID tt3841424 105 reviews were scraped\n"
     ]
    },
    {
     "name": "stderr",
     "output_type": "stream",
     "text": [
      "Scraping Reviews:  47%|████▋     | 311/667 [3:26:30<2:01:09, 20.42s/it]"
     ]
    },
    {
     "name": "stdout",
     "output_type": "stream",
     "text": [
      "For film with ID tt4080728 146 reviews were scraped\n"
     ]
    },
    {
     "name": "stderr",
     "output_type": "stream",
     "text": [
      "Scraping Reviews:  47%|████▋     | 312/667 [3:26:41<1:43:33, 17.50s/it]"
     ]
    },
    {
     "name": "stdout",
     "output_type": "stream",
     "text": [
      "For film with ID tt4239726 24 reviews were scraped\n"
     ]
    },
    {
     "name": "stderr",
     "output_type": "stream",
     "text": [
      "Scraping Reviews:  47%|████▋     | 313/667 [3:26:58<1:42:30, 17.37s/it]"
     ]
    },
    {
     "name": "stdout",
     "output_type": "stream",
     "text": [
      "For film with ID tt4048272 144 reviews were scraped\n"
     ]
    },
    {
     "name": "stderr",
     "output_type": "stream",
     "text": [
      "Scraping Reviews:  47%|████▋     | 314/667 [3:27:13<1:37:01, 16.49s/it]"
     ]
    },
    {
     "name": "stdout",
     "output_type": "stream",
     "text": [
      "For film with ID tt5275892 73 reviews were scraped\n"
     ]
    },
    {
     "name": "stderr",
     "output_type": "stream",
     "text": [
      "Scraping Reviews:  47%|████▋     | 315/667 [3:27:22<1:23:27, 14.22s/it]"
     ]
    },
    {
     "name": "stdout",
     "output_type": "stream",
     "text": [
      "For film with ID tt3652526 15 reviews were scraped\n"
     ]
    },
    {
     "name": "stderr",
     "output_type": "stream",
     "text": [
      "Scraping Reviews:  47%|████▋     | 316/667 [3:27:36<1:22:49, 14.16s/it]"
     ]
    },
    {
     "name": "stdout",
     "output_type": "stream",
     "text": [
      "For film with ID tt5804038 91 reviews were scraped\n"
     ]
    },
    {
     "name": "stderr",
     "output_type": "stream",
     "text": [
      "Scraping Reviews:  48%|████▊     | 317/667 [3:27:44<1:13:26, 12.59s/it]"
     ]
    },
    {
     "name": "stdout",
     "output_type": "stream",
     "text": [
      "For film with ID tt3917210 20 reviews were scraped\n"
     ]
    },
    {
     "name": "stderr",
     "output_type": "stream",
     "text": [
      "Scraping Reviews:  48%|████▊     | 318/667 [3:28:00<1:18:21, 13.47s/it]"
     ]
    },
    {
     "name": "stdout",
     "output_type": "stream",
     "text": [
      "For film with ID tt5895028 116 reviews were scraped\n"
     ]
    },
    {
     "name": "stderr",
     "output_type": "stream",
     "text": [
      "Scraping Reviews:  48%|████▊     | 319/667 [3:31:08<6:22:23, 65.93s/it]"
     ]
    },
    {
     "name": "stdout",
     "output_type": "stream",
     "text": [
      "For film with ID tt2543164 2219 reviews were scraped\n"
     ]
    },
    {
     "name": "stderr",
     "output_type": "stream",
     "text": [
      "Scraping Reviews:  48%|████▊     | 320/667 [3:32:27<6:43:32, 69.78s/it]"
     ]
    },
    {
     "name": "stdout",
     "output_type": "stream",
     "text": [
      "For film with ID tt4975722 973 reviews were scraped\n"
     ]
    },
    {
     "name": "stderr",
     "output_type": "stream",
     "text": [
      "Scraping Reviews:  48%|████▊     | 321/667 [3:33:08<5:51:39, 60.98s/it]"
     ]
    },
    {
     "name": "stdout",
     "output_type": "stream",
     "text": [
      "For film with ID tt2582782 502 reviews were scraped\n"
     ]
    },
    {
     "name": "stderr",
     "output_type": "stream",
     "text": [
      "Scraping Reviews:  48%|████▊     | 322/667 [3:33:57<5:30:42, 57.52s/it]"
     ]
    },
    {
     "name": "stdout",
     "output_type": "stream",
     "text": [
      "For film with ID tt4846340 582 reviews were scraped\n"
     ]
    },
    {
     "name": "stderr",
     "output_type": "stream",
     "text": [
      "Scraping Reviews:  48%|████▊     | 323/667 [3:34:47<5:16:03, 55.13s/it]"
     ]
    },
    {
     "name": "stdout",
     "output_type": "stream",
     "text": [
      "For film with ID tt3741834 603 reviews were scraped\n"
     ]
    },
    {
     "name": "stderr",
     "output_type": "stream",
     "text": [
      "Scraping Reviews:  49%|████▊     | 324/667 [3:35:50<5:29:04, 57.57s/it]"
     ]
    },
    {
     "name": "stdout",
     "output_type": "stream",
     "text": [
      "For film with ID tt3464902 787 reviews were scraped\n"
     ]
    },
    {
     "name": "stderr",
     "output_type": "stream",
     "text": [
      "Scraping Reviews:  49%|████▊     | 325/667 [3:36:09<4:22:05, 45.98s/it]"
     ]
    },
    {
     "name": "stdout",
     "output_type": "stream",
     "text": [
      "For film with ID tt4385888 135 reviews were scraped\n"
     ]
    },
    {
     "name": "stderr",
     "output_type": "stream",
     "text": [
      "Scraping Reviews:  49%|████▉     | 326/667 [3:37:09<4:45:24, 50.22s/it]"
     ]
    },
    {
     "name": "stdout",
     "output_type": "stream",
     "text": [
      "For film with ID tt4555426 732 reviews were scraped\n"
     ]
    },
    {
     "name": "stderr",
     "output_type": "stream",
     "text": [
      "Scraping Reviews:  49%|████▉     | 327/667 [3:38:48<6:08:05, 64.96s/it]"
     ]
    },
    {
     "name": "stdout",
     "output_type": "stream",
     "text": [
      "For film with ID tt5726616 1191 reviews were scraped\n"
     ]
    },
    {
     "name": "stderr",
     "output_type": "stream",
     "text": [
      "Scraping Reviews:  49%|████▉     | 328/667 [3:39:40<5:43:57, 60.88s/it]"
     ]
    },
    {
     "name": "stdout",
     "output_type": "stream",
     "text": [
      "For film with ID tt5776858 604 reviews were scraped\n"
     ]
    },
    {
     "name": "stderr",
     "output_type": "stream",
     "text": [
      "Scraping Reviews:  49%|████▉     | 329/667 [3:42:30<8:48:01, 93.73s/it]"
     ]
    },
    {
     "name": "stdout",
     "output_type": "stream",
     "text": [
      "For film with ID tt5052448 1885 reviews were scraped\n"
     ]
    },
    {
     "name": "stderr",
     "output_type": "stream",
     "text": [
      "Scraping Reviews:  49%|████▉     | 330/667 [3:42:55<6:50:47, 73.14s/it]"
     ]
    },
    {
     "name": "stdout",
     "output_type": "stream",
     "text": [
      "For film with ID tt6000478 234 reviews were scraped\n"
     ]
    },
    {
     "name": "stderr",
     "output_type": "stream",
     "text": [
      "Scraping Reviews:  50%|████▉     | 331/667 [3:43:43<6:06:45, 65.49s/it]"
     ]
    },
    {
     "name": "stdout",
     "output_type": "stream",
     "text": [
      "For film with ID tt5580036 548 reviews were scraped\n"
     ]
    },
    {
     "name": "stderr",
     "output_type": "stream",
     "text": [
      "Scraping Reviews:  50%|████▉     | 332/667 [3:44:02<4:47:34, 51.50s/it]"
     ]
    },
    {
     "name": "stdout",
     "output_type": "stream",
     "text": [
      "For film with ID tt2396589 154 reviews were scraped\n"
     ]
    },
    {
     "name": "stderr",
     "output_type": "stream",
     "text": [
      "Scraping Reviews:  50%|████▉     | 333/667 [3:45:11<5:17:25, 57.02s/it]"
     ]
    },
    {
     "name": "stdout",
     "output_type": "stream",
     "text": [
      "For film with ID tt4925292 859 reviews were scraped\n"
     ]
    },
    {
     "name": "stderr",
     "output_type": "stream",
     "text": [
      "Scraping Reviews:  50%|█████     | 334/667 [3:47:38<7:45:05, 83.80s/it]"
     ]
    },
    {
     "name": "stdout",
     "output_type": "stream",
     "text": [
      "For film with ID tt5580390 1719 reviews were scraped\n"
     ]
    },
    {
     "name": "stderr",
     "output_type": "stream",
     "text": [
      "Scraping Reviews:  50%|█████     | 335/667 [3:49:25<8:23:08, 90.93s/it]"
     ]
    },
    {
     "name": "stdout",
     "output_type": "stream",
     "text": [
      "For film with ID tt2380307 1333 reviews were scraped\n"
     ]
    },
    {
     "name": "stderr",
     "output_type": "stream",
     "text": [
      "Scraping Reviews:  50%|█████     | 336/667 [3:49:53<6:36:19, 71.84s/it]"
     ]
    },
    {
     "name": "stdout",
     "output_type": "stream",
     "text": [
      "For film with ID tt3874544 275 reviews were scraped\n"
     ]
    },
    {
     "name": "stderr",
     "output_type": "stream",
     "text": [
      "Scraping Reviews:  51%|█████     | 337/667 [3:50:09<5:03:12, 55.13s/it]"
     ]
    },
    {
     "name": "stdout",
     "output_type": "stream",
     "text": [
      "For film with ID tt3901826 112 reviews were scraped\n"
     ]
    },
    {
     "name": "stderr",
     "output_type": "stream",
     "text": [
      "Scraping Reviews:  51%|█████     | 338/667 [3:50:28<4:02:58, 44.31s/it]"
     ]
    },
    {
     "name": "stdout",
     "output_type": "stream",
     "text": [
      "For film with ID tt3411444 156 reviews were scraped\n"
     ]
    },
    {
     "name": "stderr",
     "output_type": "stream",
     "text": [
      "Scraping Reviews:  51%|█████     | 339/667 [3:50:51<3:27:17, 37.92s/it]"
     ]
    },
    {
     "name": "stdout",
     "output_type": "stream",
     "text": [
      "For film with ID tt3262342 226 reviews were scraped\n"
     ]
    },
    {
     "name": "stderr",
     "output_type": "stream",
     "text": [
      "Scraping Reviews:  51%|█████     | 340/667 [3:54:48<8:52:02, 97.62s/it]"
     ]
    },
    {
     "name": "stdout",
     "output_type": "stream",
     "text": [
      "For film with ID tt5013056 2593 reviews were scraped\n"
     ]
    },
    {
     "name": "stderr",
     "output_type": "stream",
     "text": [
      "Scraping Reviews:  51%|█████     | 341/667 [3:55:04<6:38:13, 73.29s/it]"
     ]
    },
    {
     "name": "stdout",
     "output_type": "stream",
     "text": [
      "For film with ID tt5639354 73 reviews were scraped\n"
     ]
    },
    {
     "name": "stderr",
     "output_type": "stream",
     "text": [
      "Scraping Reviews:  51%|█████▏    | 342/667 [3:55:20<5:03:08, 55.96s/it]"
     ]
    },
    {
     "name": "stdout",
     "output_type": "stream",
     "text": [
      "For film with ID tt7048622 61 reviews were scraped\n"
     ]
    },
    {
     "name": "stderr",
     "output_type": "stream",
     "text": [
      "Scraping Reviews:  51%|█████▏    | 343/667 [3:55:34<3:54:55, 43.50s/it]"
     ]
    },
    {
     "name": "stdout",
     "output_type": "stream",
     "text": [
      "For film with ID tt6304162 79 reviews were scraped\n"
     ]
    },
    {
     "name": "stderr",
     "output_type": "stream",
     "text": [
      "Scraping Reviews:  52%|█████▏    | 344/667 [3:55:47<3:04:22, 34.25s/it]"
     ]
    },
    {
     "name": "stdout",
     "output_type": "stream",
     "text": [
      "For film with ID tt5607714 62 reviews were scraped\n"
     ]
    },
    {
     "name": "stderr",
     "output_type": "stream",
     "text": [
      "Scraping Reviews:  52%|█████▏    | 345/667 [3:56:12<2:48:30, 31.40s/it]"
     ]
    },
    {
     "name": "stdout",
     "output_type": "stream",
     "text": [
      "For film with ID tt4995790 206 reviews were scraped\n"
     ]
    },
    {
     "name": "stderr",
     "output_type": "stream",
     "text": [
      "Scraping Reviews:  52%|█████▏    | 346/667 [3:56:29<2:25:39, 27.22s/it]"
     ]
    },
    {
     "name": "stdout",
     "output_type": "stream",
     "text": [
      "For film with ID tt6333060 128 reviews were scraped\n"
     ]
    },
    {
     "name": "stderr",
     "output_type": "stream",
     "text": [
      "Scraping Reviews:  52%|█████▏    | 347/667 [3:56:39<1:57:09, 21.97s/it]"
     ]
    },
    {
     "name": "stdout",
     "output_type": "stream",
     "text": [
      "For film with ID tt5952382 22 reviews were scraped\n"
     ]
    },
    {
     "name": "stderr",
     "output_type": "stream",
     "text": [
      "Scraping Reviews:  52%|█████▏    | 348/667 [3:56:50<1:40:01, 18.81s/it]"
     ]
    },
    {
     "name": "stdout",
     "output_type": "stream",
     "text": [
      "For film with ID tt5598102 34 reviews were scraped\n"
     ]
    },
    {
     "name": "stderr",
     "output_type": "stream",
     "text": [
      "Scraping Reviews:  52%|█████▏    | 349/667 [3:57:01<1:26:45, 16.37s/it]"
     ]
    },
    {
     "name": "stdout",
     "output_type": "stream",
     "text": [
      "For film with ID tt6333074 12 reviews were scraped\n"
     ]
    },
    {
     "name": "stderr",
     "output_type": "stream",
     "text": [
      "Scraping Reviews:  52%|█████▏    | 350/667 [3:57:12<1:18:14, 14.81s/it]"
     ]
    },
    {
     "name": "stdout",
     "output_type": "stream",
     "text": [
      "For film with ID tt5873150 41 reviews were scraped\n"
     ]
    },
    {
     "name": "stderr",
     "output_type": "stream",
     "text": [
      "Scraping Reviews:  53%|█████▎    | 351/667 [3:57:55<2:02:11, 23.20s/it]"
     ]
    },
    {
     "name": "stdout",
     "output_type": "stream",
     "text": [
      "For film with ID tt6294822 495 reviews were scraped\n"
     ]
    },
    {
     "name": "stderr",
     "output_type": "stream",
     "text": [
      "Scraping Reviews:  53%|█████▎    | 352/667 [3:59:41<4:11:48, 47.96s/it]"
     ]
    },
    {
     "name": "stdout",
     "output_type": "stream",
     "text": [
      "For film with ID tt5027774 1329 reviews were scraped\n"
     ]
    },
    {
     "name": "stderr",
     "output_type": "stream",
     "text": [
      "Scraping Reviews:  53%|█████▎    | 353/667 [4:00:21<3:58:40, 45.61s/it]"
     ]
    },
    {
     "name": "stdout",
     "output_type": "stream",
     "text": [
      "For film with ID tt3521126 432 reviews were scraped\n"
     ]
    },
    {
     "name": "stderr",
     "output_type": "stream",
     "text": [
      "Scraping Reviews:  53%|█████▎    | 354/667 [4:02:43<6:28:25, 74.46s/it]"
     ]
    },
    {
     "name": "stdout",
     "output_type": "stream",
     "text": [
      "For film with ID tt3315342 1698 reviews were scraped\n"
     ]
    },
    {
     "name": "stderr",
     "output_type": "stream",
     "text": [
      "Scraping Reviews:  53%|█████▎    | 355/667 [4:03:21<5:31:41, 63.79s/it]"
     ]
    },
    {
     "name": "stdout",
     "output_type": "stream",
     "text": [
      "For film with ID tt4209788 444 reviews were scraped\n"
     ]
    },
    {
     "name": "stderr",
     "output_type": "stream",
     "text": [
      "Scraping Reviews:  53%|█████▎    | 356/667 [4:03:55<4:44:15, 54.84s/it]"
     ]
    },
    {
     "name": "stdout",
     "output_type": "stream",
     "text": [
      "For film with ID tt5462602 408 reviews were scraped\n"
     ]
    },
    {
     "name": "stderr",
     "output_type": "stream",
     "text": [
      "Scraping Reviews:  54%|█████▎    | 357/667 [4:09:44<12:18:01, 142.84s/it]"
     ]
    },
    {
     "name": "stdout",
     "output_type": "stream",
     "text": [
      "For film with ID tt1727824 3502 reviews were scraped\n"
     ]
    },
    {
     "name": "stderr",
     "output_type": "stream",
     "text": [
      "Scraping Reviews:  54%|█████▎    | 358/667 [4:10:49<10:15:20, 119.48s/it]"
     ]
    },
    {
     "name": "stdout",
     "output_type": "stream",
     "text": [
      "For film with ID tt6266538 789 reviews were scraped\n"
     ]
    },
    {
     "name": "stderr",
     "output_type": "stream",
     "text": [
      "Scraping Reviews:  54%|█████▍    | 359/667 [4:15:15<14:00:00, 163.64s/it]"
     ]
    },
    {
     "name": "stdout",
     "output_type": "stream",
     "text": [
      "For film with ID tt1517451 2803 reviews were scraped\n"
     ]
    },
    {
     "name": "stderr",
     "output_type": "stream",
     "text": [
      "Scraping Reviews:  54%|█████▍    | 360/667 [4:15:40<10:23:23, 121.84s/it]"
     ]
    },
    {
     "name": "stdout",
     "output_type": "stream",
     "text": [
      "For film with ID tt6938828 215 reviews were scraped\n"
     ]
    },
    {
     "name": "stderr",
     "output_type": "stream",
     "text": [
      "Scraping Reviews:  54%|█████▍    | 361/667 [4:18:16<11:14:07, 132.18s/it]"
     ]
    },
    {
     "name": "stdout",
     "output_type": "stream",
     "text": [
      "For film with ID tt6966692 1718 reviews were scraped\n"
     ]
    },
    {
     "name": "stderr",
     "output_type": "stream",
     "text": [
      "Scraping Reviews:  54%|█████▍    | 362/667 [4:20:06<10:38:55, 125.69s/it]"
     ]
    },
    {
     "name": "stdout",
     "output_type": "stream",
     "text": [
      "For film with ID tt5083738 1258 reviews were scraped\n"
     ]
    },
    {
     "name": "stderr",
     "output_type": "stream",
     "text": [
      "Scraping Reviews:  54%|█████▍    | 363/667 [4:21:41<9:49:42, 116.39s/it] "
     ]
    },
    {
     "name": "stdout",
     "output_type": "stream",
     "text": [
      "For film with ID tt6155172 1160 reviews were scraped\n"
     ]
    },
    {
     "name": "stderr",
     "output_type": "stream",
     "text": [
      "Scraping Reviews:  55%|█████▍    | 364/667 [4:22:06<7:29:02, 88.92s/it] "
     ]
    },
    {
     "name": "stdout",
     "output_type": "stream",
     "text": [
      "For film with ID tt3750872 242 reviews were scraped\n"
     ]
    },
    {
     "name": "stderr",
     "output_type": "stream",
     "text": [
      "Scraping Reviews:  55%|█████▍    | 365/667 [4:22:33<5:54:47, 70.49s/it]"
     ]
    },
    {
     "name": "stdout",
     "output_type": "stream",
     "text": [
      "For film with ID tt4595882 254 reviews were scraped\n"
     ]
    },
    {
     "name": "stderr",
     "output_type": "stream",
     "text": [
      "Scraping Reviews:  55%|█████▍    | 366/667 [4:25:38<8:45:20, 104.72s/it]"
     ]
    },
    {
     "name": "stdout",
     "output_type": "stream",
     "text": [
      "For film with ID tt4633694 2099 reviews were scraped\n"
     ]
    },
    {
     "name": "stderr",
     "output_type": "stream",
     "text": [
      "Scraping Reviews:  55%|█████▌    | 367/667 [4:27:04<8:15:16, 99.05s/it] "
     ]
    },
    {
     "name": "stdout",
     "output_type": "stream",
     "text": [
      "For film with ID tt3606756 1087 reviews were scraped\n"
     ]
    },
    {
     "name": "stderr",
     "output_type": "stream",
     "text": [
      "Scraping Reviews:  55%|█████▌    | 368/667 [4:27:45<6:47:26, 81.76s/it]"
     ]
    },
    {
     "name": "stdout",
     "output_type": "stream",
     "text": [
      "For film with ID tt5104604 462 reviews were scraped\n"
     ]
    },
    {
     "name": "stderr",
     "output_type": "stream",
     "text": [
      "Scraping Reviews:  55%|█████▌    | 369/667 [4:28:00<5:06:13, 61.66s/it]"
     ]
    },
    {
     "name": "stdout",
     "output_type": "stream",
     "text": [
      "For film with ID tt6900448 71 reviews were scraped\n"
     ]
    },
    {
     "name": "stderr",
     "output_type": "stream",
     "text": [
      "Scraping Reviews:  55%|█████▌    | 370/667 [4:29:07<5:12:57, 63.22s/it]"
     ]
    },
    {
     "name": "stdout",
     "output_type": "stream",
     "text": [
      "For film with ID tt5848272 810 reviews were scraped\n"
     ]
    },
    {
     "name": "stderr",
     "output_type": "stream",
     "text": [
      "Scraping Reviews:  56%|█████▌    | 371/667 [4:29:48<4:38:56, 56.54s/it]"
     ]
    },
    {
     "name": "stdout",
     "output_type": "stream",
     "text": [
      "For film with ID tt8267604 471 reviews were scraped\n"
     ]
    },
    {
     "name": "stderr",
     "output_type": "stream",
     "text": [
      "Scraping Reviews:  56%|█████▌    | 372/667 [4:30:12<3:50:47, 46.94s/it]"
     ]
    },
    {
     "name": "stdout",
     "output_type": "stream",
     "text": [
      "For film with ID tt6543652 219 reviews were scraped\n"
     ]
    },
    {
     "name": "stderr",
     "output_type": "stream",
     "text": [
      "Scraping Reviews:  56%|█████▌    | 373/667 [4:30:29<3:06:12, 38.00s/it]"
     ]
    },
    {
     "name": "stdout",
     "output_type": "stream",
     "text": [
      "For film with ID tt5311542 115 reviews were scraped\n"
     ]
    },
    {
     "name": "stderr",
     "output_type": "stream",
     "text": [
      "Scraping Reviews:  56%|█████▌    | 374/667 [4:30:54<2:45:47, 33.95s/it]"
     ]
    },
    {
     "name": "stdout",
     "output_type": "stream",
     "text": [
      "For film with ID tt8075192 228 reviews were scraped\n"
     ]
    },
    {
     "name": "stderr",
     "output_type": "stream",
     "text": [
      "Scraping Reviews:  56%|█████▌    | 375/667 [4:32:07<3:42:48, 45.78s/it]"
     ]
    },
    {
     "name": "stdout",
     "output_type": "stream",
     "text": [
      "For film with ID tt7349662 920 reviews were scraped\n"
     ]
    },
    {
     "name": "stderr",
     "output_type": "stream",
     "text": [
      "Scraping Reviews:  56%|█████▋    | 376/667 [4:32:37<3:18:56, 41.02s/it]"
     ]
    },
    {
     "name": "stdout",
     "output_type": "stream",
     "text": [
      "For film with ID tt7775622 329 reviews were scraped\n"
     ]
    },
    {
     "name": "stderr",
     "output_type": "stream",
     "text": [
      "Scraping Reviews:  57%|█████▋    | 377/667 [4:32:48<2:34:29, 31.96s/it]"
     ]
    },
    {
     "name": "stdout",
     "output_type": "stream",
     "text": [
      "For film with ID tt6634646 12 reviews were scraped\n"
     ]
    },
    {
     "name": "stderr",
     "output_type": "stream",
     "text": [
      "Scraping Reviews:  57%|█████▋    | 378/667 [4:33:00<2:04:59, 25.95s/it]"
     ]
    },
    {
     "name": "stdout",
     "output_type": "stream",
     "text": [
      "For film with ID tt7476236 42 reviews were scraped\n"
     ]
    },
    {
     "name": "stderr",
     "output_type": "stream",
     "text": [
      "Scraping Reviews:  57%|█████▋    | 379/667 [4:33:11<1:42:20, 21.32s/it]"
     ]
    },
    {
     "name": "stdout",
     "output_type": "stream",
     "text": [
      "For film with ID tt7519174 14 reviews were scraped\n"
     ]
    },
    {
     "name": "stderr",
     "output_type": "stream",
     "text": [
      "Scraping Reviews:  57%|█████▋    | 380/667 [4:33:24<1:31:02, 19.03s/it]"
     ]
    },
    {
     "name": "stdout",
     "output_type": "stream",
     "text": [
      "For film with ID tt7689964 64 reviews were scraped\n"
     ]
    },
    {
     "name": "stderr",
     "output_type": "stream",
     "text": [
      "Scraping Reviews:  57%|█████▋    | 381/667 [4:39:09<9:16:10, 116.68s/it]"
     ]
    },
    {
     "name": "stdout",
     "output_type": "stream",
     "text": [
      "For film with ID tt1825683 3402 reviews were scraped\n"
     ]
    },
    {
     "name": "stderr",
     "output_type": "stream",
     "text": [
      "Scraping Reviews:  57%|█████▋    | 382/667 [4:40:10<7:55:03, 100.01s/it]"
     ]
    },
    {
     "name": "stdout",
     "output_type": "stream",
     "text": [
      "For film with ID tt6412452 782 reviews were scraped\n"
     ]
    },
    {
     "name": "stderr",
     "output_type": "stream",
     "text": [
      "Scraping Reviews:  57%|█████▋    | 383/667 [4:40:38<6:10:59, 78.38s/it] "
     ]
    },
    {
     "name": "stdout",
     "output_type": "stream",
     "text": [
      "For film with ID tt7125860 311 reviews were scraped\n"
     ]
    },
    {
     "name": "stderr",
     "output_type": "stream",
     "text": [
      "Scraping Reviews:  58%|█████▊    | 384/667 [4:41:14<5:10:41, 65.87s/it]"
     ]
    },
    {
     "name": "stdout",
     "output_type": "stream",
     "text": [
      "For film with ID tt6053438 393 reviews were scraped\n"
     ]
    }
   ],
   "source": [
    "import csv\n",
    "import pandas as pd\n",
    "import requests\n",
    "from bs4 import BeautifulSoup\n",
    "from tqdm import tqdm\n",
    "import numpy as np\n",
    "\n",
    "# Read data from an Excel file\n",
    "data = pd.read_excel('awards_until2019_imdbid.xlsx')\n",
    "movies = data['imdbid'].tolist()  # Get a list of movie IDs\n",
    "base_url = 'https://www.imdb.com'  # Base URL for IMDb website\n",
    "headers = {\n",
    "    'User-Agent': 'Mozilla/5.0 (Windows NT 10.0; Win64; x64) AppleWebKit/537.36 (KHTML, like Gecko) Chrome/58.0.3029.110 Safari/537.3'\n",
    "}  # User-Agent header to be used in requests\n",
    "reviews_data = []  # List to store the scraped reviews\n",
    "\n",
    "# Function to extract reviews from a given URL\n",
    "def extract_reviews(url, movie_id):\n",
    "    try:\n",
    "        try:\n",
    "            movie_name = get_movie_name(movie_id)\n",
    "        except:\n",
    "            movie_name = 'Nan'  # Set movie_name to 'Nan' if it fails to retrieve the movie name\n",
    "        response = requests.get(url, headers=headers)\n",
    "        soup = BeautifulSoup(response.content, 'html.parser')\n",
    "        base = f\"{base_url}/title/{movie_id}/reviews\"\n",
    "        review_divs = soup.find_all('div', {'class': 'lister-item-content'})\n",
    "\n",
    "        reviews = []\n",
    "        for review_div in review_divs:\n",
    "            try:\n",
    "                # Extract relevant information from each review_div\n",
    "                review_name = review_div.find('a', {'class': 'title'}).text.strip()\n",
    "                review_content = review_div.find('div', {'class': 'text'}).text.strip()\n",
    "                reviewer_name = review_div.find('span', {'class': 'display-name-link'}).text.strip()\n",
    "                reviewer_link = base_url + review_div.find('span', {'class': 'display-name-link'}).a['href']\n",
    "                review_link = base_url + review_div.find('a', {'class': 'title'})['href']\n",
    "                review_date = review_div.find('span', {'class': 'review-date'}).text.strip()\n",
    "                review_rating = review_div.find('span', {'class': 'rating-other-user-rating'}).find('span').text.strip()\n",
    "\n",
    "                # Store the extracted information in a dictionary and append to the reviews list\n",
    "                reviews.append({\n",
    "                    'movie_id': movie_id,\n",
    "                    'movie_name': movie_name,\n",
    "                    'title': review_name,\n",
    "                    'link': review_link,\n",
    "                    'date': review_date,\n",
    "                    'rating': review_rating,\n",
    "                    'reviewer_name': reviewer_name,\n",
    "                    'reviewer_link': reviewer_link,\n",
    "                    'review_content': review_content\n",
    "                })\n",
    "            except AttributeError:\n",
    "                continue\n",
    "    except:\n",
    "        # If any exception occurs during scraping, recursively call the function again\n",
    "        extract_reviews(url, movie_id)\n",
    "\n",
    "    # Check if there are additional pages and scrape them\n",
    "    load_more_div = soup.find('div', {'class': 'load-more-data'})\n",
    "    if load_more_div is not None and 'data-key' in load_more_div.attrs:\n",
    "        load_more_link = load_more_div['data-key']\n",
    "        new_url = f\"{base}/_ajax?paginationKey={load_more_link}\"\n",
    "        reviews.extend(extract_reviews(new_url, movie_id))\n",
    "\n",
    "    return reviews\n",
    "\n",
    "# Function to get the movie name\n",
    "def get_movie_name(movie_id):\n",
    "    response = requests.get(f\"{base_url}/title/{movie_id}/\", headers=headers)\n",
    "    soup = BeautifulSoup(response.content, 'html.parser')\n",
    "    return soup.find('section', {'class': 'ipc-page-section'}).h1.text\n",
    "\n",
    "pbar = tqdm(total=len(movies), desc='Scraping Reviews')\n",
    "#existing_ids=pd.read_csv('reviews_data.csv')['movie_id'].unique()\n",
    "#existing_ids2=pd.read_csv('reviews_data2.csv')['movie_id'].unique()\n",
    "#existing_ids3=pd.read_csv('reviews_data3.csv')['movie_id'].unique()\n",
    "#existing_ids4=pd.read_csv('reviews_data4.csv')['movie_id'].unique()\n",
    "#existing=np.concatenate((existing_ids,existing_ids2,existing_ids3,existing_ids4))\n",
    "\n",
    "\n",
    "for movie_id in movies :\n",
    "    #if movie_id not in existing :\n",
    "        url = f\"{base_url}/title/{movie_id}/reviews\"\n",
    "        movie_reviews = extract_reviews(url, movie_id)\n",
    "        print('For film with ID', movie_id, len(movie_reviews), 'reviews were scraped')\n",
    "        pbar.update(1)\n",
    "        reviews_data.extend(movie_reviews)\n",
    "        # Convert the list of dictionaries into a DataFrame\n",
    "        df = pd.DataFrame(reviews_data)\n",
    "        # Convert the 'date' column to datetime\n",
    "        try :\n",
    "            df['date'] = pd.to_datetime(df['date'])\n",
    "        except :\n",
    "            pass\n",
    "        # Save the DataFrame to a CSV file\n",
    "        df.to_csv('reviews_data*.csv', index=False)\n",
    "        \n"
   ]
  },
  {
   "cell_type": "code",
   "execution_count": 5,
   "metadata": {
    "colab": {
     "base_uri": "https://localhost:8080/",
     "height": 1000
    },
    "id": "0KqcWNzFDNJq",
    "outputId": "d29aee42-ba90-477c-c237-94f5a41fb496"
   },
   "outputs": [
    {
     "data": {
      "text/html": [
       "<div>\n",
       "<style scoped>\n",
       "    .dataframe tbody tr th:only-of-type {\n",
       "        vertical-align: middle;\n",
       "    }\n",
       "\n",
       "    .dataframe tbody tr th {\n",
       "        vertical-align: top;\n",
       "    }\n",
       "\n",
       "    .dataframe thead th {\n",
       "        text-align: right;\n",
       "    }\n",
       "</style>\n",
       "<table border=\"1\" class=\"dataframe\">\n",
       "  <thead>\n",
       "    <tr style=\"text-align: right;\">\n",
       "      <th></th>\n",
       "      <th>movie_id</th>\n",
       "      <th>movie_name</th>\n",
       "      <th>title</th>\n",
       "      <th>link</th>\n",
       "      <th>date</th>\n",
       "      <th>rating</th>\n",
       "      <th>reviewer_name</th>\n",
       "      <th>reviewer_link</th>\n",
       "      <th>review_content</th>\n",
       "    </tr>\n",
       "  </thead>\n",
       "  <tbody>\n",
       "    <tr>\n",
       "      <th>0</th>\n",
       "      <td>tt0387131</td>\n",
       "      <td>The Constant Gardener</td>\n",
       "      <td>3-in-1 Film: Romance, Thriller, and Social Rea...</td>\n",
       "      <td>https://www.imdb.com/review/rw1163018/?ref_=tt...</td>\n",
       "      <td>2005-09-01</td>\n",
       "      <td>8</td>\n",
       "      <td>lavatch</td>\n",
       "      <td>https://www.imdb.com/user/ur2767381/?ref_=tt_urv</td>\n",
       "      <td>\"The Constant Gardener\" seeks to juggle three ...</td>\n",
       "    </tr>\n",
       "    <tr>\n",
       "      <th>1</th>\n",
       "      <td>tt0387131</td>\n",
       "      <td>The Constant Gardener</td>\n",
       "      <td>Thought Provoking and Beautifully Stirring Pol...</td>\n",
       "      <td>https://www.imdb.com/review/rw1166746/?ref_=tt...</td>\n",
       "      <td>2005-09-06</td>\n",
       "      <td>10</td>\n",
       "      <td>WriterDave</td>\n",
       "      <td>https://www.imdb.com/user/ur1069062/?ref_=tt_urv</td>\n",
       "      <td>Ralph Fiennes stars as a British diplomat whos...</td>\n",
       "    </tr>\n",
       "    <tr>\n",
       "      <th>2</th>\n",
       "      <td>tt0387131</td>\n",
       "      <td>The Constant Gardener</td>\n",
       "      <td>CONSTANCY Inevitably Unearths the Truth!</td>\n",
       "      <td>https://www.imdb.com/review/rw3517969/?ref_=tt...</td>\n",
       "      <td>2016-08-02</td>\n",
       "      <td>9</td>\n",
       "      <td>KissEnglishPasto</td>\n",
       "      <td>https://www.imdb.com/user/ur47239035/?ref_=tt_urv</td>\n",
       "      <td>From PASTO, Colombia-Via: L. A. CA; CALI, COLO...</td>\n",
       "    </tr>\n",
       "    <tr>\n",
       "      <th>3</th>\n",
       "      <td>tt0387131</td>\n",
       "      <td>The Constant Gardener</td>\n",
       "      <td>great</td>\n",
       "      <td>https://www.imdb.com/review/rw3560669/?ref_=tt...</td>\n",
       "      <td>2016-10-12</td>\n",
       "      <td>8</td>\n",
       "      <td>SnoopyStyle</td>\n",
       "      <td>https://www.imdb.com/user/ur2898520/?ref_=tt_urv</td>\n",
       "      <td>Justin Quayle (Ralph Fiennes) is a mild-manner...</td>\n",
       "    </tr>\n",
       "    <tr>\n",
       "      <th>4</th>\n",
       "      <td>tt0387131</td>\n",
       "      <td>The Constant Gardener</td>\n",
       "      <td>Great story.... and sad truths about Big Pharma</td>\n",
       "      <td>https://www.imdb.com/review/rw7652435/?ref_=tt...</td>\n",
       "      <td>2021-12-17</td>\n",
       "      <td>8</td>\n",
       "      <td>tmendonca-50956</td>\n",
       "      <td>https://www.imdb.com/user/ur98824700/?ref_=tt_urv</td>\n",
       "      <td>\"Put $50,000 in the right hands and you can te...</td>\n",
       "    </tr>\n",
       "    <tr>\n",
       "      <th>...</th>\n",
       "      <td>...</td>\n",
       "      <td>...</td>\n",
       "      <td>...</td>\n",
       "      <td>...</td>\n",
       "      <td>...</td>\n",
       "      <td>...</td>\n",
       "      <td>...</td>\n",
       "      <td>...</td>\n",
       "      <td>...</td>\n",
       "    </tr>\n",
       "    <tr>\n",
       "      <th>190404</th>\n",
       "      <td>tt6053438</td>\n",
       "      <td>Sur le chemin de la rédemption</td>\n",
       "      <td>A terrible movie</td>\n",
       "      <td>https://www.imdb.com/review/rw4304637/?ref_=tt...</td>\n",
       "      <td>2018-08-26</td>\n",
       "      <td>1</td>\n",
       "      <td>maxwell-58088</td>\n",
       "      <td>https://www.imdb.com/user/ur91662753/?ref_=tt_urv</td>\n",
       "      <td>I thought this would be a good movie based on ...</td>\n",
       "    </tr>\n",
       "    <tr>\n",
       "      <th>190405</th>\n",
       "      <td>tt6053438</td>\n",
       "      <td>Sur le chemin de la rédemption</td>\n",
       "      <td>First Reformed</td>\n",
       "      <td>https://www.imdb.com/review/rw6491180/?ref_=tt...</td>\n",
       "      <td>2021-01-17</td>\n",
       "      <td>10</td>\n",
       "      <td>mrls-05315</td>\n",
       "      <td>https://www.imdb.com/user/ur61987197/?ref_=tt_urv</td>\n",
       "      <td>I couldn't help comparing this movie to \"Winte...</td>\n",
       "    </tr>\n",
       "    <tr>\n",
       "      <th>190406</th>\n",
       "      <td>tt6053438</td>\n",
       "      <td>Sur le chemin de la rédemption</td>\n",
       "      <td>Less Taxi Driver and more The Believer with be...</td>\n",
       "      <td>https://www.imdb.com/review/rw8629961/?ref_=tt...</td>\n",
       "      <td>2022-10-23</td>\n",
       "      <td>8</td>\n",
       "      <td>trey-89891</td>\n",
       "      <td>https://www.imdb.com/user/ur63444148/?ref_=tt_urv</td>\n",
       "      <td>Perfect performances and truly engaging direct...</td>\n",
       "    </tr>\n",
       "    <tr>\n",
       "      <th>190407</th>\n",
       "      <td>tt6053438</td>\n",
       "      <td>Sur le chemin de la rédemption</td>\n",
       "      <td>Just terrible</td>\n",
       "      <td>https://www.imdb.com/review/rw4512751/?ref_=tt...</td>\n",
       "      <td>2018-12-15</td>\n",
       "      <td>2</td>\n",
       "      <td>lachlankennedy</td>\n",
       "      <td>https://www.imdb.com/user/ur96402918/?ref_=tt_urv</td>\n",
       "      <td>I'll give the movie points for the tension cre...</td>\n",
       "    </tr>\n",
       "    <tr>\n",
       "      <th>190408</th>\n",
       "      <td>tt6053438</td>\n",
       "      <td>Sur le chemin de la rédemption</td>\n",
       "      <td>The best ending since Pans Labrryth</td>\n",
       "      <td>https://www.imdb.com/review/rw4696131/?ref_=tt...</td>\n",
       "      <td>2019-03-03</td>\n",
       "      <td>10</td>\n",
       "      <td>jdsuz</td>\n",
       "      <td>https://www.imdb.com/user/ur99939207/?ref_=tt_urv</td>\n",
       "      <td>Everyone saying that the ending was terrible n...</td>\n",
       "    </tr>\n",
       "  </tbody>\n",
       "</table>\n",
       "<p>190409 rows × 9 columns</p>\n",
       "</div>"
      ],
      "text/plain": [
       "         movie_id                      movie_name   \n",
       "0       tt0387131           The Constant Gardener  \\\n",
       "1       tt0387131           The Constant Gardener   \n",
       "2       tt0387131           The Constant Gardener   \n",
       "3       tt0387131           The Constant Gardener   \n",
       "4       tt0387131           The Constant Gardener   \n",
       "...           ...                             ...   \n",
       "190404  tt6053438  Sur le chemin de la rédemption   \n",
       "190405  tt6053438  Sur le chemin de la rédemption   \n",
       "190406  tt6053438  Sur le chemin de la rédemption   \n",
       "190407  tt6053438  Sur le chemin de la rédemption   \n",
       "190408  tt6053438  Sur le chemin de la rédemption   \n",
       "\n",
       "                                                    title   \n",
       "0       3-in-1 Film: Romance, Thriller, and Social Rea...  \\\n",
       "1       Thought Provoking and Beautifully Stirring Pol...   \n",
       "2                CONSTANCY Inevitably Unearths the Truth!   \n",
       "3                                                   great   \n",
       "4         Great story.... and sad truths about Big Pharma   \n",
       "...                                                   ...   \n",
       "190404                                   A terrible movie   \n",
       "190405                                     First Reformed   \n",
       "190406  Less Taxi Driver and more The Believer with be...   \n",
       "190407                                      Just terrible   \n",
       "190408                The best ending since Pans Labrryth   \n",
       "\n",
       "                                                     link       date rating   \n",
       "0       https://www.imdb.com/review/rw1163018/?ref_=tt... 2005-09-01      8  \\\n",
       "1       https://www.imdb.com/review/rw1166746/?ref_=tt... 2005-09-06     10   \n",
       "2       https://www.imdb.com/review/rw3517969/?ref_=tt... 2016-08-02      9   \n",
       "3       https://www.imdb.com/review/rw3560669/?ref_=tt... 2016-10-12      8   \n",
       "4       https://www.imdb.com/review/rw7652435/?ref_=tt... 2021-12-17      8   \n",
       "...                                                   ...        ...    ...   \n",
       "190404  https://www.imdb.com/review/rw4304637/?ref_=tt... 2018-08-26      1   \n",
       "190405  https://www.imdb.com/review/rw6491180/?ref_=tt... 2021-01-17     10   \n",
       "190406  https://www.imdb.com/review/rw8629961/?ref_=tt... 2022-10-23      8   \n",
       "190407  https://www.imdb.com/review/rw4512751/?ref_=tt... 2018-12-15      2   \n",
       "190408  https://www.imdb.com/review/rw4696131/?ref_=tt... 2019-03-03     10   \n",
       "\n",
       "           reviewer_name                                      reviewer_link   \n",
       "0                lavatch   https://www.imdb.com/user/ur2767381/?ref_=tt_urv  \\\n",
       "1             WriterDave   https://www.imdb.com/user/ur1069062/?ref_=tt_urv   \n",
       "2       KissEnglishPasto  https://www.imdb.com/user/ur47239035/?ref_=tt_urv   \n",
       "3            SnoopyStyle   https://www.imdb.com/user/ur2898520/?ref_=tt_urv   \n",
       "4        tmendonca-50956  https://www.imdb.com/user/ur98824700/?ref_=tt_urv   \n",
       "...                  ...                                                ...   \n",
       "190404     maxwell-58088  https://www.imdb.com/user/ur91662753/?ref_=tt_urv   \n",
       "190405        mrls-05315  https://www.imdb.com/user/ur61987197/?ref_=tt_urv   \n",
       "190406        trey-89891  https://www.imdb.com/user/ur63444148/?ref_=tt_urv   \n",
       "190407    lachlankennedy  https://www.imdb.com/user/ur96402918/?ref_=tt_urv   \n",
       "190408             jdsuz  https://www.imdb.com/user/ur99939207/?ref_=tt_urv   \n",
       "\n",
       "                                           review_content  \n",
       "0       \"The Constant Gardener\" seeks to juggle three ...  \n",
       "1       Ralph Fiennes stars as a British diplomat whos...  \n",
       "2       From PASTO, Colombia-Via: L. A. CA; CALI, COLO...  \n",
       "3       Justin Quayle (Ralph Fiennes) is a mild-manner...  \n",
       "4       \"Put $50,000 in the right hands and you can te...  \n",
       "...                                                   ...  \n",
       "190404  I thought this would be a good movie based on ...  \n",
       "190405  I couldn't help comparing this movie to \"Winte...  \n",
       "190406  Perfect performances and truly engaging direct...  \n",
       "190407  I'll give the movie points for the tension cre...  \n",
       "190408  Everyone saying that the ending was terrible n...  \n",
       "\n",
       "[190409 rows x 9 columns]"
      ]
     },
     "execution_count": 5,
     "metadata": {},
     "output_type": "execute_result"
    }
   ],
   "source": [
    "df"
   ]
  }
 ],
 "metadata": {
  "colab": {
   "provenance": []
  },
  "kernelspec": {
   "display_name": "Python 3 (ipykernel)",
   "language": "python",
   "name": "python3"
  },
  "language_info": {
   "codemirror_mode": {
    "name": "ipython",
    "version": 3
   },
   "file_extension": ".py",
   "mimetype": "text/x-python",
   "name": "python",
   "nbconvert_exporter": "python",
   "pygments_lexer": "ipython3",
   "version": "3.10.9"
  }
 },
 "nbformat": 4,
 "nbformat_minor": 1
}
